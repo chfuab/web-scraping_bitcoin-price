{
 "cells": [
  {
   "cell_type": "code",
   "execution_count": 1,
   "id": "bfbfaad2",
   "metadata": {},
   "outputs": [],
   "source": [
    "from bs4 import BeautifulSoup\n",
    "import requests\n",
    "from selenium import webdriver\n",
    "from selenium.webdriver.common.keys import Keys\n",
    "from selenium.webdriver.support.ui import WebDriverWait\n",
    "import pandas as pd"
   ]
  },
  {
   "cell_type": "code",
   "execution_count": 2,
   "id": "4ce66d77",
   "metadata": {},
   "outputs": [
    {
     "data": {
      "text/plain": [
       "<head prefix=\"og: http://ogp.me/ns#\"><script>window.performance && window.performance.mark && window.performance.mark('PageStart');</script><meta charset=\"utf-8\"/><title>Bitcoin USD (BTC-USD) Price, News, Quote &amp; History - Yahoo Finance</title><meta content=\"BTC-USD, Bitcoin USD, BTC-USD historical prices, Bitcoin USD historical prices, historical prices, stocks, quotes, finance\" name=\"keywords\"/><meta content=\"on\" http-equiv=\"x-dns-prefetch-control\"/><meta content=\"on\" property=\"twitter:dnt\"/><meta content=\"458584288257241\" property=\"fb:app_id\"/><meta content=\"#400090\" name=\"theme-color\"/><meta content=\"width=device-width, initial-scale=1\" name=\"viewport\"/><meta content=\"Find the latest Bitcoin USD (BTC-USD) price quote, history, news and other vital information to help you with your cryptocurrency trading and investing.\" lang=\"en-US\" name=\"description\"/><meta content=\"guce.yahoo.com\" name=\"oath:guce:consent-host\"/><meta content=\"A9862C0E6E1BE95BCE0BF3D0298FD58B\" name=\"msvalidate.01\"/><link href=\"/manifest.json\" rel=\"manifest\"/><link href=\"//l.yimg.com\" rel=\"dns-prefetch\"/><link href=\"//s.yimg.com\" rel=\"dns-prefetch\"/><link href=\"//csc.beap.bc.yahoo.com\" rel=\"dns-prefetch\"/><link href=\"//geo.query.yahoo.com\" rel=\"dns-prefetch\"/><link href=\"//y.analytics.yahoo.com\" rel=\"dns-prefetch\"/><link href=\"//b.scorecardresearch.com\" rel=\"dns-prefetch\"/><link href=\"//iquery.finance.yahoo.com\" rel=\"dns-prefetch\"/><link href=\"//fc.yahoo.com\" rel=\"dns-prefetch\"/><link href=\"//video-api.yql.yahoo.com\" rel=\"dns-prefetch\"/><link href=\"//yrtas.btrll.com\" rel=\"dns-prefetch\"/><link href=\"//shim.btrll.com\" rel=\"dns-prefetch\"/><link href=\"//consent.cmp.oath.com\" rel=\"dns-prefetch\"/><link href=\"//geo.yahoo.com\" rel=\"dns-prefetch\"/><link crossorigin=\"anonymous\" href=\"//l.yimg.com\" rel=\"preconnect\"/><link crossorigin=\"anonymous\" href=\"//s.yimg.com\" rel=\"preconnect\"/><link href=\"//csc.beap.bc.yahoo.com\" rel=\"preconnect\"/><link href=\"//geo.query.yahoo.com\" rel=\"preconnect\"/><link href=\"//y.analytics.yahoo.com\" rel=\"preconnect\"/><link href=\"//b.scorecardresearch.com\" rel=\"preconnect\"/><link href=\"//iquery.finance.yahoo.com\" rel=\"preconnect\"/><link href=\"//fc.yahoo.com\" rel=\"preconnect\"/><link href=\"//video-api.yql.yahoo.com\" rel=\"preconnect\"/><link href=\"//yrtas.btrll.com\" rel=\"preconnect\"/><link href=\"//shim.btrll.com\" rel=\"preconnect\"/><link href=\"//consent.cmp.oath.com\" rel=\"preconnect\"/><link href=\"//geo.yahoo.com\" rel=\"preconnect\"/><link href=\"//ads.yahoo.com\" rel=\"preconnect\"/><link as=\"font\" crossorigin=\"anonymous\" href=\"https://s.yimg.com/uc/finance/dd-site/fonts/YahooSansFinancial-Regular-Web.woff2\" rel=\"preload\" type=\"font/woff2\"/><link as=\"font\" crossorigin=\"anonymous\" href=\"https://s.yimg.com/uc/finance/dd-site/fonts/YahooSansFinancial-Medium-Web.woff2\" rel=\"preload\" type=\"font/woff2\"/><link as=\"font\" crossorigin=\"anonymous\" href=\"https://s.yimg.com/uc/finance/dd-site/fonts/YahooSansFinancial-Semibold-Web.woff2\" rel=\"preload\" type=\"font/woff2\"/><link as=\"font\" crossorigin=\"anonymous\" href=\"https://s.yimg.com/uc/finance/dd-site/fonts/YahooSansFinancial-Bold-Web.woff2\" rel=\"preload\" type=\"font/woff2\"/><link as=\"worker\" href=\"/__finStreamer-worker.js\" rel=\"preload\"/><link as=\"worker\" href=\"/__rapidworker-1.2.js\" rel=\"preload\"/><link href=\"https://s.yimg.com/cv/apiv2/default/icons/favicon_y19_32x32_custom.svg\" rel=\"icon\" sizes=\"any\"/><link href=\"https://s.yimg.com/cv/apiv2/default/fp/20180826/icons/favicon_y19_32x32.ico\" rel=\"alternate icon\" type=\"image/x-icon\"/><link href=\"https://finance.yahoo.com/quote/BTC-USD/history/\" rel=\"canonical\"/><meta content=\"@YahooFinance\" property=\"twitter:site\"/><meta content=\"458584288257241\" property=\"fb:pages\"/><meta content=\"https://s.yimg.com/cv/apiv2/social/images/yahoo_default_logo.png\" property=\"og:image\"/><meta content=\"Find the latest Bitcoin USD (BTC-USD) price quote, history, news and other vital information to help you with your cryptocurrency trading and investing.\" property=\"og:description\"/><meta content=\"Bitcoin USD (BTC-USD) Price, News, Quote &amp; History - Yahoo Finance\" property=\"og:title\"/><meta content=\"Find the latest Bitcoin USD (BTC-USD) price quote, history, news and other vital information to help you with your cryptocurrency trading and investing.\" property=\"twitter:description\"/><meta content=\"Bitcoin USD (BTC-USD) Price, News, Quote &amp; History - Yahoo Finance\" property=\"twitter:title\"/><meta content=\"328412701\" property=\"al:ios:app_store_id\"/><meta content=\"Yahoo Finance\" property=\"al:ios:app_name\"/><meta content=\"intent://quote/BTC-USD/#Intent;scheme=yfinance;action=android.intent.action.VIEW;package=com.yahoo.mobile.client.android.finance;S.browser_fallback_url=https%3A%2F%2Fplay.google.com%2Fstore%2Fapps%2Fdetails%3Fid%3Dcom.yahoo.mobile.client.android.finance;end\" property=\"al:android:url\"/><meta content=\"Yahoo Finance\" property=\"al:android:app_name\"/><meta content=\"com.yahoo.mobile.client.android.finance\" property=\"al:android:package\"/><meta content=\"app-id=328412701, app-clip-bundle-id=com.yahoo.finance.clip-qsp, affiliate-data=ct=us.fin.mbl.smart-banner&amp;pt=9029, app-argument=https://finance.yahoo.com/quote/BTC-USD\" name=\"apple-itunes-app\"/><meta content=\"guce.yahoo.com\" name=\"oath:guce:consent-host\"/><link href=\"https://s.yimg.com/uc/finance/dd-site/css/app.d6138386.css\" rel=\"stylesheet\"/><link href=\"https://s.yimg.com/uc/finance/dd-site/css/atomic-light.219e53f7.css\" rel=\"stylesheet\"/><link href=\"https://s.yimg.com/uc/finance/dd-site/css/yahooSansFinance.9be97232.css\" rel=\"stylesheet\"/><script src=\"https://s.yimg.com/aaq/yc/2.9.0/en.js\"></script><script src=\"https://s.yimg.com/uc/finance/dd-site/js/jsErrorBeacon.js\"></script><script src=\"https://s.yimg.com/ss/rapid3.js\"></script><script src=\"https://s.yimg.com/uc/finance/srchjs/1.0.98/js/finSearch.modern.js\"></script><style type=\"text/css\">:root{--primaryColor:#232a31;--tertiaryColor:#5b636a;--headerBgColor:#f5f8fa;--lv2BgColor:#fff;--lv3BgColor:#fff;--seperatorColor:#e0e4e9;--linkColor:#0f69ff;--linkActiveColor:#125bd4;--hoverBgColor:#f0f3f5;--c-fuji-hulk-pants:#7e1fff;--c-fuji-dolphin:#6e7780;--boxShadow:0 2px 4px rgba(0,0,0,0.2);--newsItemWidth:calc(100% - 50px);--xs:11px;--s:13px;--m:15px}.modules_noDisplay__14EgM{display:none!important}.modules_noScroll__1LlRN{overflow-y:hidden}.modules_IbBox__2YYTq{display:inline-block;vertical-align:top}.modules_BoxShadow__2Fw77{box-shadow:0 2px 4px rgba(0,0,0,.2);box-shadow:var(--boxShadow)}.modules_list__1zFHY{list-style-type:none;margin:0;padding:0}.modules_selectedBackground__3xdSN{background-color:#f0f3f5!important;background-color:var(--hoverBgColor)!important}.modules_suggestionList__2EooL{background-color:#fff;background-color:var(--lv2BgColor);border:1px solid #e0e4e9;border-top:0 solid #e0e4e9;border:1px solid var(--seperatorColor);border-top:0 solid var(--seperatorColor);box-shadow:0 2px 4px rgba(0,0,0,.2);box-shadow:var(--boxShadow);left:0;position:absolute;text-align:left;white-space:nowrap;width:100%;word-break:break-all;z-index:10}.modules_resultsContainer__3P2fJ{max-height:615px;overflow-y:auto}.modules_resultsContainerShort__xI2JH{max-height:calc(100vh - 34px);overflow-y:auto}.modules_clearBtn__23SPE{background-color:transparent;border:none;box-sizing:border-box;color:#0f69ff;color:var(--linkColor);cursor:pointer;display:inline-block;font-size:14px;font-weight:500;left:-38px;margin-right:-38px;padding:5px 10px;position:relative;text-align:center;vertical-align:middle;width:38px}.modules_clearBtn__23SPE:hover{color:#125bd4;color:var(--linkActiveColor)}.modules_clearBtn__23SPE svg{padding-top:3px}.modules_sectionHeader__bJReo{border-top:1px solid #e0e4e9;border-top:1px solid var(--seperatorColor);padding:10px 20px 5px}[data-finsrch=quote] .modules_sectionHeader__bJReo{border-bottom:1px solid #e0e4e9;border-bottom:1px solid var(--seperatorColor);border-top:none;margin-bottom:8px;padding:16px;text-align:left}.modules_sectionHeaderModern__3sWbh{background-color:#f5f8fa;background-color:var(--headerBgColor)}.modules_sectionHeaderTitle__2Q-Wz{display:inline-block;font-size:15px;font-size:var(--m);font-weight:700;margin:0}[data-finsrch=quote] .modules_sectionHeaderTitle__2Q-Wz{font-size:14px;font-weight:400}.modules_showAllLink__3ibTC{background-color:transparent;border:0;color:#0f69ff;color:var(--linkColor);cursor:pointer;font-weight:700;height:auto;margin:0;padding:0;text-decoration:none}.modules_screenerText__3Mezf{margin-left:5px}.modules_screenerLink__rAVzz{background-color:transparent;border:0;color:#0f69ff;color:var(--linkColor);cursor:pointer;float:right;font-size:13px;font-size:var(--s);height:auto;margin:0;padding:0;text-decoration:none}.modules_screenerLink__rAVzz:hover{text-decoration:underline}.modules_errorMessage__3MVU7{color:#5b636a;color:var(--tertiaryColor);font-size:15px;font-size:var(--m);font-weight:500;padding:0 20px 40px;text-align:center}.modules_errorIcon__1s0TT{margin-bottom:10px;padding-top:40px;text-align:center}.modules_tipMessage__2AG11{color:#5b636a;color:var(--tertiaryColor);display:block;font-size:13px;font-size:var(--s);margin:0;padding:8px 20px;text-align:left;white-space:normal;word-break:normal}.modules_modernSuggestionItem__3PZ2Y{border-top:1px solid #e0e4e9;border-top:1px solid var(--seperatorColor)}.modules_linkItem__2NK9M{background-color:#fff;background-color:var(--lv3BgColor);font-size:13px;font-size:var(--s);margin:0;padding:8px 16px;text-align:left;white-space:nowrap}.modules_linkItem__2NK9M:hover{background-color:#f0f3f5;background-color:var(--hoverBgColor);cursor:pointer}.modules_itemLeftCol__1EfgV{min-width:50px}.modules_itemRightCol__1NicL{max-width:calc(100% - 50px);max-width:var(--newsItemWidth)}.modules_itemIcon__3LInU{fill:#232a31;fill:var(--primaryColor);stroke:#232a31;stroke:var(--primaryColor);vertical-align:middle}.modules_itemIconContainer__3eOeh{height:32px;margin-left:-2px;text-align:center;width:32px}.modules_Ell__1-r-H{max-width:100%;overflow:hidden;text-overflow:ellipsis;white-space:nowrap}.modules_Ell__1-r-H:after{content:\".\";display:inline-block;font-size:0;height:0;overflow:hidden;visibility:hidden;width:0}.modules_quoteItem__2x3Sc{align-items:flex-start;display:flex;justify-content:space-between}.modules_quoteRightCol__92sdx{align-items:center;color:#5b636a;color:var(--tertiaryColor);display:inline-flex;font-size:12px;justify-content:center;text-align:right}.modules_quoteSymbol__3Vtbg{font-weight:500;margin-right:10px;width:80px}.modules_quoteCompanyName__3YiTx{color:#5b636a;color:var(--tertiaryColor);display:inline}.modules_quotePlusButton__2cT7r{background:#f5f8fa;background:var(--headerBgColor);border-radius:60px;height:18px;margin-left:8px;text-align:center;width:18px}[data-id=search-assist-input-sugglst] .modules_linkItem__2NK9M:last-child{padding-bottom:16px}.modules_linkItem__2NK9M:hover .modules_quotePlusButton__2cT7r,.modules_selectedBackground__3xdSN .modules_quotePlusButton__2cT7r{background:#fff;background:var(--lv2BgColor)}.modules_plusIcon__15Yj8{fill:#7e1fff;fill:var(--c-fuji-hulk-pants);stroke:#7e1fff;stroke:var(--c-fuji-hulk-pants);vertical-align:sub}.modules_navItemContent__usgq1{display:inline-block}.modules_newsIcon__2-LaA{margin-top:7px}.modules_newsVideoIcon__1GQti{margin-left:4px;margin-top:8px}.modules_newsTitle__7WqpR{font-size:13px;font-size:var(--s);font-weight:500;margin:0 0 2px}.modules_newsMeta__2ydFA{color:#5b636a;color:var(--tertiaryColor);font-size:11px;font-size:var(--xs);font-weight:400}.modules_newsSeperator__3W6S8{margin:0 4px}.modules_listTitle__2gGZv{font-size:13px;font-size:var(--s);font-weight:500;margin:0 0 2px}.modules_listAttr__32NkN{color:#5b636a;color:var(--tertiaryColor);font-size:xs;font-weight:400}.modules_listIcon__11MMQ{margin-top:8px}.modules_recLeftCol__3xdhm{margin-right:10px}.modules_recRightCol__11i8f{color:#232a31;color:var(--primaryColor);font-weight:700;margin-right:10px}.modules_recIcon__3KLan{fill:#125bd4;fill:var(--linkActiveColor);stroke:#125bd4;stroke:var(--linkActiveColor);vertical-align:middle}.modules_researchIcon__10fW3{margin-top:8px}.modules_researchSeperator__1TIap{margin:0 4px}.modules_backdrop__2011g{background-color:#fff;background-color:var(--lv2BgColor);height:110vh;position:fixed;z-index:1}.modules_backdrop__2011g,.modules_cover__31rtY{bottom:0;left:0;right:0;top:0}.modules_cover__31rtY{position:fixed!important;z-index:2}.modules_cover__31rtY>input{width:100%!important}.modules_cover__31rtY>.modules_clearBtn__23SPE{left:unset;position:absolute;right:110px;top:0}.modules_cancelBtn__2-8-I{background-color:#0f69ff;background-color:var(--linkColor);border:none;box-sizing:border-box;color:#fff;cursor:pointer;height:35px;padding:0 15px;position:absolute;right:0;top:0}.modules_cancelIcon__9o8aR{fill:#6e7780;fill:var(--c-fuji-dolphin)}</style><script defer=\"\" src=\"https://s.yimg.com/uc/finance/dd-site/js/vendor.f03dd8ff1a25d4884e93.modern.js\"></script><script defer=\"\" src=\"https://s.yimg.com/uc/finance/dd-site/js/common.19a3d4332368c708a6c8.modern.js\"></script><script src=\"https://consent.cmp.oath.com/cmpStub.min.js\"></script><script async=\"\" src=\"https://consent.cmp.oath.com/cmp.js\"></script><script src=\"https://s.yimg.com/rq/darla/4-8-0/js/g-r-min.js\"></script><script>(function(html){var c = html.className;c += \" JsEnabled\";c = c.replace(\"NoJs\",\"\");html.className = c;})(document.documentElement);</script><script>!function(){var e,t,n,i,r={passive:!0,capture:!0},a=new Date,o=function(){i=[],t=-1,e=null,f(addEventListener)},c=function(i,r){e||(e=r,t=i,n=new Date,f(removeEventListener),u())},u=function(){if(t>=0&&t<n-a){var r={entryType:\"first-input\",name:e.type,target:e.target,cancelable:e.cancelable,startTime:e.timeStamp,processingStart:e.timeStamp+t};i.forEach((function(e){e(r)})),i=[]}},s=function(e){if(e.cancelable){var t=(e.timeStamp>1e12?new Date:performance.now())-e.timeStamp;\"pointerdown\"==e.type?function(e,t){var n=function(){c(e,t),a()},i=function(){a()},a=function(){removeEventListener(\"pointerup\",n,r),removeEventListener(\"pointercancel\",i,r)};addEventListener(\"pointerup\",n,r),addEventListener(\"pointercancel\",i,r)}(t,e):c(t,e)}},f=function(e){[\"mousedown\",\"keydown\",\"touchstart\",\"pointerdown\"].forEach((function(t){return e(t,s,r)}))},p=\"hidden\"===document.visibilityState?0:1/0;addEventListener(\"visibilitychange\",(function e(t){\"hidden\"===document.visibilityState&&(p=t.timeStamp,removeEventListener(\"visibilitychange\",e,!0))}),!0);o(),self.webVitals={firstInputPolyfill:function(e){i.push(e),u()},resetFirstInputPolyfill:o,get firstHiddenTime(){return p}}}();\n",
       "</script><script>!function(e,s,f,p){var a=[],t={_version:\"3.11.4\",_config:{classPrefix:\"\",enableClasses:!0,enableJSClass:!0,usePrefixes:!0},_q:[],on:function(e,t){var n=this;setTimeout(function(){t(n[e])},0)},addTest:function(e,t,n){a.push({name:e,fn:t,options:n})},addAsyncTest:function(e){a.push({name:null,fn:e})}},l=function(){};l.prototype=t,l=new l;var d=[];function v(e,t){return typeof e===t}var n=\"Moz O ms Webkit\",c=t._config.usePrefixes?n.split(\" \"):[];t._cssomPrefixes=c;var y=f.documentElement,m=\"svg\"===y.nodeName.toLowerCase();function h(){return\"function\"!=typeof f.createElement?f.createElement(arguments[0]):m?f.createElementNS.call(f,\"http://www.w3.org/2000/svg\",arguments[0]):f.createElement.apply(f,arguments)}var r={elem:h(\"modernizr\")};l._q.push(function(){delete r.elem});var g={style:r.elem.style};function o(e,t,n,r){var o,i,s,a,l,d=\"modernizr\",c=h(\"div\"),u=((l=f.body)||((l=h(m?\"svg\":\"body\")).fake=!0),l);if(parseInt(n,10))for(;n--;)(s=h(\"div\")).id=r?r[n]:d+(n+1),c.appendChild(s);return(o=h(\"style\")).type=\"text/css\",o.id=\"s\"+d,(u.fake?u:c).appendChild(o),u.appendChild(c),o.styleSheet?o.styleSheet.cssText=e:o.appendChild(f.createTextNode(e)),c.id=d,u.fake&&(u.style.background=\"\",u.style.overflow=\"hidden\",a=y.style.overflow,y.style.overflow=\"hidden\",y.appendChild(u)),i=t(c,e),u.fake?(u.parentNode.removeChild(u),y.style.overflow=a,y.offsetHeight):c.parentNode.removeChild(c),!!i}function i(e){return e.replace(/([A-Z])/g,function(e,t){return\"-\"+t.toLowerCase()}).replace(/^ms-/,\"-ms-\")}function S(e,t){var n=e.length;if(\"CSS\"in s&&\"supports\"in s.CSS){for(;n--;)if(s.CSS.supports(i(e[n]),t))return!0;return!1}if(\"CSSSupportsRule\"in s){for(var r=[];n--;)r.push(\"(\"+i(e[n])+\":\"+t+\")\");return o(\"@supports (\"+(r=r.join(\" or \"))+\") { #modernizr { position: absolute; } }\",function(e){return\"absolute\"===function(e,t,n){var r;if(\"getComputedStyle\"in s){r=getComputedStyle.call(s,e,t);var o=s.console;null!==r?n&&(r=r.getPropertyValue(n)):o&&o[o.error?\"error\":\"log\"].call(o,\"getComputedStyle returning null, its possible modernizr test results are inaccurate\")}else r=!t&&e.currentStyle&&e.currentStyle[n];return r}(e,null,\"position\")})}return p}function T(e){return e.replace(/([a-z])-([a-z])/g,function(e,t,n){return t+n.toUpperCase()}).replace(/^-/,\"\")}l._q.unshift(function(){delete g.style});var u=t._config.usePrefixes?n.toLowerCase().split(\" \"):[];function w(e,t){return function(){return e.apply(t,arguments)}}function C(e,t,n,r,o){var i=e.charAt(0).toUpperCase()+e.slice(1),s=(e+\" \"+c.join(i+\" \")+i).split(\" \");return v(t,\"string\")||v(t,\"undefined\")?function(e,t,n,r){if(r=!v(r,\"undefined\")&&r,!v(n,\"undefined\")){var o=S(e,n);if(!v(o,\"undefined\"))return o}for(var i,s,a,l,d,c=[\"modernizr\",\"tspan\",\"samp\"];!g.style&&c.length;)i=!0,g.modElem=h(c.shift()),g.style=g.modElem.style;function u(){i&&(delete g.style,delete g.modElem)}for(a=e.length,s=0;s<a;s++)if(l=e[s],d=g.style[l],~(\"\"+l).indexOf(\"-\")&&(l=T(l)),g.style[l]!==p){if(r||v(n,\"undefined\"))return u(),\"pfx\"!==t||l;try{g.style[l]=n}catch(e){}if(g.style[l]!==d)return u(),\"pfx\"!==t||l}return u(),!1}(s,t,r,o):function(e,t,n){var r;for(var o in e)if(e[o]in t)return!1===n?e[o]:v(r=t[e[o]],\"function\")?w(r,n||t):r;return!1}(s=(e+\" \"+u.join(i+\" \")+i).split(\" \"),t,n)}t._domPrefixes=u,t.testAllProps=C;var x=function(e){var t,n=P.length,r=s.CSSRule;if(void 0===r)return p;if(!e)return!1;if((t=(e=e.replace(/^@/,\"\")).replace(/-/g,\"_\").toUpperCase()+\"_RULE\")in r)return\"@\"+e;for(var o=0;o<n;o++){var i=P[o];if(i.toUpperCase()+\"_\"+t in r)return\"@-\"+i.toLowerCase()+\"-\"+e}return!1};t.atRule=x;t.prefixed=function(e,t,n){return 0===e.indexOf(\"@\")?x(e):(-1!==e.indexOf(\"-\")&&(e=T(e)),t?C(e,t,n):C(e,\"pfx\"))};l.addTest(\"canvas\",function(){var e=h(\"canvas\");return!(!e.getContext||!e.getContext(\"2d\"))});var P=t._config.usePrefixes?\" -webkit- -moz- -o- -ms- \".split(\" \"):[\"\",\"\"];function _(e,t,n){return C(e,p,p,t,n)}t._prefixes=P,l.addTest(\"csspositionsticky\",function(){var e=\"position:\",t=h(\"a\").style;return t.cssText=e+P.join(\"sticky;\"+e).slice(0,-e.length),-1!==t.position.indexOf(\"sticky\")}),t.testAllProps=_;var b=\"CSS\"in s&&\"supports\"in s.CSS,E=\"supportsCSS\"in s;l.addTest(\"supports\",b||E),l.addTest(\"csstransforms3d\",function(){return!!_(\"perspective\",\"1px\",!0)}),l.addTest(\"csstransitions\",_(\"transition\",\"all\",!0)),l.addTest(\"history\",function(){var e=navigator.userAgent;return!!e&&((-1===e.indexOf(\"Android 2.\")&&-1===e.indexOf(\"Android 4.0\")||-1===e.indexOf(\"Mobile Safari\")||-1!==e.indexOf(\"Chrome\")||-1!==e.indexOf(\"Windows Phone\")||\"file:\"===location.protocol)&&(s.history&&\"pushState\"in s.history))}),l.addTest(\"inlinesvg\",function(){var e=h(\"div\");return e.innerHTML=\"<svg/>\",\"http://www.w3.org/2000/svg\"===(\"undefined\"!=typeof SVGRect&&e.firstChild&&e.firstChild.namespaceURI)}),l.addTest(\"localstorage\",function(){var e=\"modernizr\";try{return localStorage.setItem(e,e),localStorage.removeItem(e),!0}catch(e){return!1}}),l.addTest(\"sessionstorage\",function(){var e=\"modernizr\";try{return sessionStorage.setItem(e,e),sessionStorage.removeItem(e),!0}catch(e){return!1}}),l.addTest(\"svg\",!!f.createElementNS&&!!f.createElementNS(\"http://www.w3.org/2000/svg\",\"svg\").createSVGRect),function(){var t=h(\"video\");l.addTest(\"video\",function(){var e=!1;try{(e=!!t.canPlayType)&&(e=new Boolean(e))}catch(e){}return e});try{t.canPlayType&&(l.addTest(\"video.ogg\",t.canPlayType('video/ogg; codecs=\"theora\"').replace(/^no$/,\"\")),l.addTest(\"video.h264\",t.canPlayType('video/mp4; codecs=\"avc1.42E01E\"').replace(/^no$/,\"\")),l.addTest(\"video.h265\",t.canPlayType('video/mp4; codecs=\"hev1\"').replace(/^no$/,\"\")),l.addTest(\"video.webm\",t.canPlayType('video/webm; codecs=\"vp8, vorbis\"').replace(/^no$/,\"\")),l.addTest(\"video.vp9\",t.canPlayType('video/webm; codecs=\"vp9\"').replace(/^no$/,\"\")),l.addTest(\"video.hls\",t.canPlayType('application/x-mpegURL; codecs=\"avc1.42E01E\"').replace(/^no$/,\"\")),l.addTest(\"video.av1\",t.canPlayType('video/mp4; codecs=\"av01\"').replace(/^no$/,\"\")))}catch(e){}}(),function(){var e,t,n,r,o,i;for(var s in a)if(a.hasOwnProperty(s)){if(e=[],(t=a[s]).name&&(e.push(t.name.toLowerCase()),t.options&&t.options.aliases&&t.options.aliases.length))for(n=0;n<t.options.aliases.length;n++)e.push(t.options.aliases[n].toLowerCase());for(r=v(t.fn,\"function\")?t.fn():t.fn,o=0;o<e.length;o++)1===(i=e[o].split(\".\")).length?l[i[0]]=r:(l[i[0]]&&(!l[i[0]]||l[i[0]]instanceof Boolean)||(l[i[0]]=new Boolean(l[i[0]])),l[i[0]][i[1]]=r),d.push((r?\"\":\"no-\")+i.join(\"-\"))}}(),delete t.addTest,delete t.addAsyncTest;for(var z=0;z<l._q.length;z++)l._q[z]();e.Modernizr=l}(window,window,document);</script><script>!function(e){function t(t){t.matches?e.classList&&(e.classList.remove(\"themelight\"),e.classList.add(\"themedark\")):e.classList&&(e.classList.remove(\"themedark\"),e.classList.add(\"themelight\"))}if(window&&\"function\"==typeof window.matchMedia){var s=window.matchMedia(\"(prefers-color-scheme: dark)\");s.addListener(t),t(s)}}(document.documentElement);</script><style>/*! normalize.css v4.0.0 | MIT License | github.com/necolas/normalize.css */html{font-family:sans-serif;-ms-text-size-adjust:100%;-webkit-text-size-adjust:100%}body{margin:0}article,aside,details,figcaption,figure,footer,header,main,menu,nav,section,summary{display:block}audio,canvas,progress,video{display:inline-block}audio:not([controls]){display:none;height:0}progress{vertical-align:baseline}[hidden],template{display:none}a{background-color:transparent}a:active,a:hover{outline-width:0}abbr[title]{border-bottom:none;text-decoration:underline;text-decoration:underline dotted}b,strong{font-weight:inherit}b,strong{font-weight:bolder}dfn{font-style:italic}h1{font-size:2em;margin:.67em 0}mark{background-color:#ff0;color:#000}small{font-size:80%}sub,sup{font-size:75%;line-height:0;position:relative;vertical-align:baseline}sub{bottom:-.25em}sup{top:-.5em}img{border-style:none}svg:not(:root){overflow:hidden}code,kbd,pre,samp{font-family:monospace,monospace;font-size:1em}figure{margin:1em 40px}hr{box-sizing:content-box;height:0;overflow:visible}button,input,select,textarea{font:inherit;margin:0}optgroup{font-weight:700}button,input,select{overflow:visible}button,select{text-transform:none}[type=reset],[type=submit],button,html [type=button]{-webkit-appearance:button}button::-moz-focus-inner,input::-moz-focus-inner{border:0;padding:0}button:-moz-focusring,input:-moz-focusring{outline:1px dotted ButtonText}fieldset{border:1px solid silver;margin:0 2px;padding:.35em .625em .75em}legend{box-sizing:border-box;color:inherit;display:table;max-width:100%;padding:0;white-space:normal}textarea{overflow:auto}[type=checkbox],[type=radio]{box-sizing:border-box;padding:0}[type=number]::-webkit-inner-spin-button,[type=number]::-webkit-outer-spin-button{height:auto}[type=search]{-webkit-appearance:textfield}[type=search]::-webkit-search-cancel-button,[type=search]::-webkit-search-decoration{-webkit-appearance:none}table{border-collapse:collapse;border-spacing:0}td,th{padding:0}[type=button],[type=reset],[type=submit],button{cursor:pointer}[disabled]{cursor:default}[dir]{text-align:start}[role=button]{box-sizing:border-box;cursor:pointer}:link{text-decoration:none;color:#324fe1}:visited{color:#324fe1}a:hover{text-decoration:underline}abbr[title]{border:0;cursor:help}b{font-weight:400}blockquote{margin:0;padding:0}body{background:#fff;color:#000;font:13px/1.3 'Helvetica Neue',Helvetica,Arial,sans-serif;height:100%;text-rendering:optimizeLegibility;-webkit-font-smoothing:antialiased;-moz-osx-font-smoothing:grayscale}button{box-sizing:border-box;font:16px 'Helvetica Neue',Helvetica,Arial,sans-serif;line-height:normal;background-color:transparent;border-color:transparent}dd,dl,p,table{margin:0}fieldset{border:0;margin:0;padding:0}h1,h2,h3,h4,h5,h6{font-size:16px;margin:0}html{height:100%}i{font-style:normal}img{vertical-align:bottom}input{background-color:#fff;border:1px solid #ccc;box-sizing:border-box;font:16px 'Helvetica Neue',Helvetica,Arial,sans-serif;display:inline-block;vertical-align:middle}input[disabled]{cursor:default}input[type=checkbox],input[type=radio]{cursor:pointer;vertical-align:middle}input[type=file],input[type=image]{cursor:pointer}input:focus{outline:0;border-color:rgba(82,168,236,.8);box-shadow:inset 0 1px 1px rgba(0,0,0,.075),0 0 8px rgba(82,168,236,.6)}input::placeholder{color:rgba(0,0,0,.4);opacity:1}ol,ul{margin:0;padding-left:0;list-style-type:none}optgroup{font:16px 'Helvetica Neue',Helvetica,Arial,sans-serif}select{background-color:#fff;border:1px solid #ccc;font:16px 'Helvetica Neue',Helvetica,Arial,sans-serif;display:inline-block;vertical-align:middle}select[multiple],select[size]{height:auto}textarea{background-color:#fff;border:1px solid #ccc;box-sizing:border-box;font:16px 'Helvetica Neue',Helvetica,Arial,sans-serif;resize:vertical}textarea:focus{outline:0;border-color:rgba(82,168,236,.8);box-shadow:inset 0 1px 1px rgba(0,0,0,.075),0 0 8px rgba(82,168,236,.6)}html.onDemandFocusSupport:not(.keyboardFriendly) #Aside:focus,html.onDemandFocusSupport:not(.keyboardFriendly) #Main:focus,html.onDemandFocusSupport:not(.keyboardFriendly) #Navigation:focus,html.onDemandFocusSupport:not(.keyboardFriendly) a:focus,html.onDemandFocusSupport:not(.keyboardFriendly) button:focus{outline:0}.SpaceBetween{text-align:justify;line-height:0}.SpaceBetween:after{content:'';display:inline-block;width:100%;vertical-align:middle}.SpaceBetween>*{display:inline-block;vertical-align:middle;line-height:1.3}@media screen\\9{a:hover .StretchedBox{background-color:#fff;opacity:0}}[class*=LineClamp]{-webkit-backface-visibility:hidden}.Sticky-on .Sticky{position:fixed!important}.Scrolling #MouseoverMask{position:fixed;z-index:1000;cursor:default}#atomic .Fz\\(s\\){font-size:13px}#atomic .Fz\\(m\\){font-size:15px}#atomic .Fz\\(l\\){font-size:18px}#atomic .Fz\\(xl\\){font-size:20px}.uh-search .expanded .react-autocomplete-results{display:block}.uh-search .react-autocomplete-results{display:none;background-color:#fff;border:1px solid #b3b3b3;border-top:0;margin-right:58px}.uh-search .react-autocomplete-result-item{padding:4px 0;font-size:18px;color:#040404;padding-left:10px;padding-right:10px}.uh-search .react-autocomplete-result-item.focused,.uh-search .react-autocomplete-result-item:hover{background-color:#202020}.superheroContentTrans-enter{opacity:.01;transition:opacity .3s ease-in}.superheroContentTrans-enter.superheroContentTrans-enter-active{opacity:1}.superheroContentTrans-leave{position:absolute!important;display:block!important;top:0;opacity:1;transition:opacity .3s ease-in}.superheroContentTrans-leave.superheroContentTrans-leave-active{opacity:.01}.superheroHighlight{transition:opacity .3s ease-in;transition:background .3s ease-in}.hero-slideshow-right a,.lightbox-slideshow-right a{color:#0078ff}.sdaLite #viewer-LDRB,.sdaLite #viewer-LDRB2,.sdaLite #viewer-LREC,.sdaLite #viewer-LREC2,.sdaLite #viewer-LREC3,.sdaLite #viewer-LREC4,.sdaLite #viewer-MAST,.sdaLite #viewer-MON,.sdaLite #viewer-MON2,.sdaLite .caas-da,.sdaLite .viewer-sda-container{display:none}</style><style>.tdv2-applet-canvass .action-appear,.tdv2-applet-canvass .action-enter{opacity:.01}.tdv2-applet-canvass .action-leave{opacity:1}.tdv2-applet-canvass .action-appear.action-appear-active,.tdv2-applet-canvass .action-enter.action-enter-active{opacity:1;transition:opacity .5s ease-in}.tdv2-applet-canvass .action-leave.action-leave-active{opacity:.01;transition:opacity 1s ease-in}.tdv2-applet-canvass .arrow_box,.tdv2-applet-canvass .arrow_box_tags{position:relative;background:#fff;border:1px solid #e0e4e9}.tdv2-applet-canvass .arrow_box_tags:after,.tdv2-applet-canvass .arrow_box_tags:before{border:solid transparent;content:\" \";height:0;width:0;position:absolute;pointer-events:none}.tdv2-applet-canvass .arrow_box:after,.tdv2-applet-canvass .arrow_box:before{bottom:100%;left:50%}.tdv2-applet-canvass .arrow_box_tags:after,.tdv2-applet-canvass .arrow_box_tags:before{left:47px;top:100%}.tdv2-applet-canvass .arrow_box:after,.tdv2-applet-canvass .arrow_box_tags:after{border-color:rgba(232,235,234,0);border-width:7px;margin-left:-7px}.tdv2-applet-canvass .arrow_box:after{border-bottom-color:#fff}.tdv2-applet-canvass .arrow_box_tags:after{border-top-color:#fff}.tdv2-applet-canvass .arrow_box:before,.tdv2-applet-canvass .arrow_box_tags:before{border-color:rgba(224,228,233,0);border-width:8px;margin-left:-8px}.tdv2-applet-canvass .arrow_box:before{border-bottom-color:#e0e4e9}.tdv2-applet-canvass .arrow_box_tags:before{border-top-color:#e0e4e9}.Ff\\(YahooSans\\){font-family:\"Yahoo Sans\"!important}.commentsExpandedHideAd #render-target-default.render-target-active #Aside .controller[data-tp-beacon],.commentsExpandedHideAd #render-target-default.render-target-active #YDC-Col2 .controller[data-tp-beacon],.commentsExpandedHideAd #render-target-default.render-target-active .modalRight .controller[data-tp-beacon],.commentsExpandedHideAd #render-target-default.render-target-active [id^=defaultLDRB2-][id$=sizer],.commentsExpandedHideAd #render-target-default.render-target-active [id^=defaultLREC2-][id$=sizer],.commentsExpandedHideAd #render-target-default.render-target-active [id^=defaultLREC3-][id$=sizer],.commentsExpandedHideAd #render-target-default.render-target-active [id^=defaultLREC4-][id$=sizer],.commentsExpandedHideAd #render-target-default.render-target-active [id^=defaultMON2-][id$=sizer],.commentsExpandedHideAd #render-target-modal.render-target-active #Aside .controller[data-tp-beacon],.commentsExpandedHideAd #render-target-modal.render-target-active #YDC-Col2 .controller[data-tp-beacon],.commentsExpandedHideAd #render-target-modal.render-target-active .modalRight .controller[data-tp-beacon],.commentsExpandedHideAd #render-target-modal.render-target-active [id^=modalLDRB2-][id$=sizer],.commentsExpandedHideAd #render-target-modal.render-target-active [id^=modalLREC2-][id$=sizer],.commentsExpandedHideAd #render-target-modal.render-target-active [id^=modalLREC3-][id$=sizer],.commentsExpandedHideAd #render-target-modal.render-target-active [id^=modalLREC4-][id$=sizer],.commentsExpandedHideAd #render-target-modal.render-target-active [id^=modalMON2-][id$=sizer],.commentsExpandedHideAd #render-target-modal.render-target-active [id^=tgt][id*=SIDE][id$=Stream] .controller[data-tp-beacon],.commentsExpandedHideAd #render-target-viewer.render-target-active #Aside .controller[data-tp-beacon],.commentsExpandedHideAd #render-target-viewer.render-target-active #YDC-Col2 .controller[data-tp-beacon],.commentsExpandedHideAd #render-target-viewer.render-target-active [id^=viewerLDRB2-][id$=sizer],.commentsExpandedHideAd #render-target-viewer.render-target-active [id^=viewerLREC2-][id$=sizer],.commentsExpandedHideAd #render-target-viewer.render-target-active [id^=viewerLREC3-][id$=sizer],.commentsExpandedHideAd #render-target-viewer.render-target-active [id^=viewerLREC4-][id$=sizer],.commentsExpandedHideAd #render-target-viewer.render-target-active [id^=viewerMON2-][id$=sizer]{display:none}button,textarea{font-family:inherit}@font-face{font-family:\"Yahoo Sans\";src:url(https://s.yimg.com/cv/ae/sports/fonts/2017/Yahoo_Sans-Regular.eot);src:url(https://s.yimg.com/cv/ae/sports/fonts/2017/Yahoo_Sans-Regular.eot?#iefix) format(\"embedded-opentype\"),url(https://s.yimg.com/cv/ae/sports/fonts/2017/Yahoo_Sans-Regular.woff2) format(\"woff2\"),url(https://s.yimg.com/cv/ae/sports/fonts/2017/Yahoo_Sans-Regular.woff) format(\"woff\");font-weight:400;font-style:normal}@font-face{font-family:\"Yahoo Sans\";src:url(https://s.yimg.com/cv/ae/sports/fonts/2017/Yahoo_Sans-Semibold.eot);src:url(https://s.yimg.com/cv/ae/sports/fonts/2017/Yahoo_Sans-Semibold.eot?#iefix) format(\"embedded-opentype\"),url(https://s.yimg.com/cv/ae/sports/fonts/2017/Yahoo_Sans-Semibold.woff2) format(\"woff2\"),url(https://s.yimg.com/cv/ae/sports/fonts/2017/Yahoo_Sans-Semibold.woff) format(\"woff\");font-weight:600;font-style:normal}@font-face{font-family:\"Yahoo Sans\";src:url(https://s.yimg.com/cv/ae/sports/fonts/2017/Yahoo_Sans-Bold.eot);src:url(https://s.yimg.com/cv/ae/sports/fonts/2017/Yahoo_Sans-Bold.eot?#iefix) format(\"embedded-opentype\"),url(https://s.yimg.com/cv/ae/sports/fonts/2017/Yahoo_Sans-Bold.woff2) format(\"woff2\"),url(https://s.yimg.com/cv/ae/sports/fonts/2017/Yahoo_Sans-Bold.woff) format(\"woff\");font-weight:700;font-style:normal}</style><script>if(\"serviceWorker\" in navigator){window.addEventListener(\"load\",function(){navigator.serviceWorker.register(\"/_service-worker.js\");});}</script><style>#atomic .render-target-modal #YDC-UH{display:none}#atomic #render-target-modal,#atomic #render-target-viewer{opacity:0}#atomic.modal-postopen #render-target-modal,#atomic.viewer-postopen #render-target-viewer{opacity:1}#atomic.modal-postopen #render-target-mrt,#atomic.modal-postopen .render-target-default,#atomic.viewer-postopen #render-target-mrt,#atomic.viewer-postopen .render-target-default{max-height:100%;overflow:hidden}#render-target-mrt{position:absolute;width:100%}#atomic.default-to-modal-fade .render-target-default,#atomic.default-to-viewer-fade .render-target-default,#atomic.modal-to-default-fade .render-target-modal,#atomic.mrt-to-modal-fade #render-target-mrt,#atomic.mrt-to-viewer-fade #render-target-mrt,#atomic.viewer-to-default-fade .render-target-viewer{position:absolute}#atomic.default-to-modal-fade .render-target-modal{-webkit-animation:fadein .15s ease-out forwards;animation:fadein .15s ease-out forwards}#atomic.modal-to-default-fade .render-target-modal{-webkit-animation:fadeout .15s ease-in forwards;animation:fadeout .15s ease-in forwards}#atomic.default-to-viewer-fade .render-target-viewer,#atomic.modal-to-viewer-fade .render-target-viewer{-webkit-animation:fadein .25s ease-out forwards;animation:fadein .25s ease-out forwards}#atomic.viewer-to-default-fade .render-target-viewer,#atomic.viewer-to-modal-fade .render-target-viewer{-webkit-animation:fadeout .25s ease-in forwards;animation:fadeout .25s ease-in forwards}@-webkit-keyframes fadein{0%{opacity:0}100%{opacity:1}}@-webkit-keyframes fadeout{0%{opacity:1}100%{opacity:0}}@keyframes fadein{0%{opacity:0}100%{opacity:1}}@keyframes fadeout{0%{opacity:1}100%{opacity:0}}</style><style>#atomic .video-lightbox .tdv2-applet-canvass .comment-icon,#atomic .video-lightbox .tdv2-applet-canvass .sort-filter-button>svg{fill:#fff!important;stroke:#fff!important}#atomic .video-lightbox .tdv2-applet-canvass .comments-title,#atomic .video-lightbox .tdv2-applet-canvass .message-content>div,#atomic .video-lightbox .tdv2-applet-canvass .see-more-wrapper>div,#atomic .video-lightbox .tdv2-applet-canvass .sort-filter-button>span,#atomic .video-lightbox .tdv2-applet-canvass .username{color:#fff!important}#atomic .video-lightbox .tdv2-applet-canvass a.comment-form{border:none!important}#atomic .video-lightbox .tdv2-applet-canvass .more-button>span{color:#787d82!important}#atomic .video-lightbox .tdv2-applet-canvass .canvass-gifs input{width:135px!important}#atomic .video-lightbox .vp-playlist-container.vp-playlist-mode-right.vp-playlist-theme-dark,#atomic .video-lightbox .yvp-playlist-container.yvp-playlist-mode-right.yvp-playlist-theme-dark{background:#0c0c0c}#atomic .video-lightbox .video-container .vp-content,#atomic .video-lightbox .video-container .yvp-content{background:0 0}#atomic .video-lightbox .video-container.playlist-dimmed .vp-playlist-container,#atomic .video-lightbox .video-container.playlist-dimmed .yvp-playlist-container{cursor:none}#atomic .video-lightbox .video-container.playlist-dimmed .vp-playlist-container .vp-playlist-item,#atomic .video-lightbox .video-container.playlist-dimmed .yvp-playlist-container .yvp-playlist-item{cursor:none;opacity:.2;transition:all .4s ease-in-out;transition-delay:.2s}#atomic .video-lightbox .video-container.playlist-undimmed .vp-playlist-container .vp-playlist-item,#atomic .video-lightbox .video-container.playlist-undimmed .yvp-playlist-container .yvp-playlist-item{opacity:1;transition:all .4s ease-in-out;transition-delay:.2s}#atomic .video-lightbox .video-container.playlist-hidden .vp-playlist-container,#atomic .video-lightbox .video-container.playlist-hidden .yvp-playlist-container{opacity:0;transition:all .4s ease-in-out}#atomic .video-lightbox .video-container .vp-content.vp-browser-desktop.vp-state-video.vp-hide-controls .vp-html5-video,#atomic .video-lightbox .video-container .yvp-content.yvp-browser-desktop.yvp-state-video.yvp-hide-controls .yvp-html5-video{cursor:none}</style><script>if(!window.finWebCore){window.finWebCore=function c(e){var t=e.isModern,i=void 0===t||t,s=e.isDev,o=void 0!==s&&s,r=e.lang,a=void 0===r?n:r,d=e.devAssets,c=e.prodAssets,l=e.strings,u={},f=a.substring(a.lastIndexOf(\"-\")+1);return{lang:a,region:f,store:{},intl:f.toLowerCase(),strings:l,assets:o?d:c,addScriptTag:function(e,t,i){if(e){var s=document.createElement(\"script\");for(var o in s.setAttribute(\"src\",e),s.setAttribute(\"type\",\"text/javascript\"),\"function\"==typeof i&&(s.onload=function(){i(!0)},s.onerror=function(){i(!1)}),t)o&&Object.prototype.hasOwnProperty.call(t,o)&&void 0!==t[o]&&s.setAttribute(o,t[o]);document.body.appendChild(s)}},addAsset:function(e){var t,s=arguments.length>1&&void 0!==arguments[1]?arguments[1]:{},r=s.async,a=void 0===r||r,n=s.defer,l=s.useModule,f=void 0!==l&&l,h=s.callback;if(u[e])\"function\"==typeof h&&h(!0);else if((t=o?d:c)&&0!==t.length){u[e]=!0;var p=t[0]&&t[0][e]&&t[0][e].mjs;f?(this.addScriptTag(p,{async:a,defer:n,type:\"module\"},h),t.length>1&&!o&&(p=t[1]&&t[1][e]&&t[1][e].js,this.addScriptTag(p,{async:a,defer:n,nomodule:!0},h))):(t.length>1&&!i&&(p=t[1]&&t[1][e]&&t[1][e].js),this.addScriptTag(p,{async:a,defer:n},h))}},reset:function(){u={}}}}({isModern:true,isDev:false,lang:'en-US',devAssets:{},prodAssets:[{\"_staticFinProtobuf\":{\"mjs\":\"https://s.yimg.com/uc/finance/webcore/js/_staticFinProtobuf.545131e7093df52f5d2c.mjs\"},\"chart\":{\"mjs\":\"https://s.yimg.com/uc/finance/webcore/js/chart.e5a111250011785f962d.mjs\"},\"finIcon\":{\"mjs\":\"https://s.yimg.com/uc/finance/webcore/js/finIcon.caeb77f68a8cd1254caa.mjs\"},\"finYodlee\":{\"mjs\":\"https://s.yimg.com/uc/finance/webcore/js/finYodlee.e3c28475d062709cc678.mjs\"},\"marketSummary\":{\"mjs\":\"https://s.yimg.com/uc/finance/webcore/js/marketSummary.ffcef253857f916edc39.mjs\"},\"marketTime\":{\"mjs\":\"https://s.yimg.com/uc/finance/webcore/js/marketTime.b6690d455edd9bdb2b37.mjs\"},\"navigation\":{\"mjs\":\"https://s.yimg.com/uc/finance/webcore/js/navigation.c60673dd53c3b9e6c575.mjs\"},\"portfolio\":{\"mjs\":\"https://s.yimg.com/uc/finance/webcore/js/portfolio.a67e5dfd1b0c517fd0c0.mjs\"},\"quoteSummary\":{\"mjs\":\"https://s.yimg.com/uc/finance/webcore/js/quoteSummary.7d567c8e5f5ddda3648e.mjs\"},\"sparkLine\":{\"mjs\":\"https://s.yimg.com/uc/finance/webcore/js/sparkLine.bdc0be330ac83c917abf.mjs\"},\"streamer\":{\"mjs\":\"https://s.yimg.com/uc/finance/webcore/js/streamer.8560b0af439ea36e069c.mjs\"},\"xrayStocks\":{\"mjs\":\"https://s.yimg.com/uc/finance/webcore/js/xrayStocks.545810a7c86994db516d.mjs\"},\"\":{\"mjs\":\"https://s.yimg.com/uc/finance/webcore/js/streamer.worker.b8ddc29e6653826c3a90.worker.mjs\"}},{\"_staticFinProtobuf\":{\"js\":\"https://s.yimg.com/uc/finance/webcore/js/_staticFinProtobuf.3ddf9e84f90599f99e90.js\"},\"chart\":{\"js\":\"https://s.yimg.com/uc/finance/webcore/js/chart.4a12ebc2270f08476083.js\"},\"finIcon\":{\"js\":\"https://s.yimg.com/uc/finance/webcore/js/finIcon.ce047fe701a463e273b2.js\"},\"finYodlee\":{\"js\":\"https://s.yimg.com/uc/finance/webcore/js/finYodlee.e5b6ddaacb614924ee10.js\"},\"marketSummary\":{\"js\":\"https://s.yimg.com/uc/finance/webcore/js/marketSummary.043c0630bd0e387d9d25.js\"},\"marketTime\":{\"js\":\"https://s.yimg.com/uc/finance/webcore/js/marketTime.7ce4c8ab96c1bd46eeb4.js\"},\"navigation\":{\"js\":\"https://s.yimg.com/uc/finance/webcore/js/navigation.e2b1b0fbbb27ddcb79f6.js\"},\"portfolio\":{\"js\":\"https://s.yimg.com/uc/finance/webcore/js/portfolio.e6e09d1a897144bcddbd.js\"},\"quoteSummary\":{\"js\":\"https://s.yimg.com/uc/finance/webcore/js/quoteSummary.985eaff90fb773a8093b.js\"},\"sparkLine\":{\"js\":\"https://s.yimg.com/uc/finance/webcore/js/sparkLine.a52a09edc3fa8dc16544.js\"},\"streamer\":{\"js\":\"https://s.yimg.com/uc/finance/webcore/js/streamer.d054bea67d210e008db6.js\"},\"xrayStocks\":{\"js\":\"https://s.yimg.com/uc/finance/webcore/js/xrayStocks.4529e0b2f04f6e9777d5.js\"},\"\":{\"js\":\"https://s.yimg.com/uc/finance/webcore/js/streamer.worker.b7c872e4d5ae6291a631.worker.js\"}}],strings:{\"AUTHENTICATING\":\"Authenticating\",\"CANCEL\":\"Cancel\",\"CLOSE\":\"Close\",\"COMPANY_NAME\":\"Company name\",\"CONFIRM\":\"Confirm\",\"EDIT_LIST\":\"Edit list\",\"REFRESH\":\"Refresh\",\"HIDE_HOLDINGS\":\"Hide holdings\",\"SHOW_HOLDINGS\":\"Show holdings\",\"DAY_GAIN\":\"Day gain\",\"TOTAL_GAIN\":\"Total gain\",\"AS_OF\":\"As of {time}\",\"ADD_SYMBOLS\":\"Add Symbols\",\"CUSTOM\":\"Custom\",\"DELETE\":\"Delete\",\"DELETE_WATCHLIST\":\"Delete Watchlist\",\"DONE\":\"Done\",\"GET_STARTED_ADD_SYMBOLS\":\"Get started by searching for companies to add to your new watchlist.\",\"N_SYMBOLS\":\"{n} symbols\",\"TOP_HOLDINGS\":\"Top holdings\",\"SEARCH_SYMBOLS\":\"Search for companies & symbols\",\"SHOW_MORE\":\"Show more\",\"SHOW_LESS\":\"Show less\",\"SORT_BY\":\"Sort by:\",\"SYMBOL\":\"Symbol\",\"GET_HELP_WITH_PREMIUM\":\"Get help with Premium\",\"PORTFOLIO_ONBOARD_TITLE\":\"Let's build your first watchlist!\",\"PORTFOLIO_ONBOARD_DESC\":\"Get started by using the search bar to find your favorite companies to add to your watchlist.\",\"LINK_BROKER_VISIT\":\"Link your broker account by visiting\",\"LEARN_MORE\":\"Learn more\",\"MARKETS_OPEN\":\"Market open.\",\"MARKET_TIME_NOTICE_CLOSED\":\"As of {date} {time}. {marketState}\",\"MARKET_TIME_NOTICE_CLOSED_SHORT\":\"At close: {date} {time}\",\"MY_WATCHLIST\":\"My Watchlist\",\"PORTFOLIOS_TOTAL\":\"Portfolios Total\",\"POST_MARKET_NOTICE\":\"After hours:\",\"POST\":\"Post\",\"PRE\":\"Pre\",\"PRE_MARKET_NOTICE\":\"Pre-Market:\",\"PRIVACY_VZ\":\"Verizon Media Privacy\",\"PRIVACY_YAHOO\":\"Yahoo Privacy\",\"PROVIDE_FEEDBACK\":\"Provide Feedback\",\"PROGRESS_TRACK\":\"{current} of {total}\",\"TAKE_TOUR\":\"Take the tour\",\"TERMS_VZ\":\"Verizon Media Terms\",\"TERMS_YAHOO\":\"Yahoo Terms\",\"TRY_AGAIN\":\"Try again\",\"TRY_OTHER_BROWSER\":\"Unfortunately broker linking is not currently supported on Chrome. Please try again with another browser\",\"VIEW_ON_YAHOO_FINANCE\":\"View on Yahoo Finance\",\"UNLINKING\":\"Unlinking your account\",\"YAHOO_FINANCE\":\"Yahoo Finance\",\"YODLEE_ERROR\":\"Something went wrong on our end. Please try again.\",\"YODLEE_BANK_ERROR\":\"Sorry, we couldn’t connect your bank account\",\"YODLEE_TIMEOUT\":\"Your session has timed out. Please sign in again\"}}); function initStreamer(){ window.finWebCore.addAsset('streamer',{async:true}); } if(document.readyState === 'interactive' || document.readyState === 'complete'){ initStreamer(); }else{window.addEventListener('DOMContentLoaded', initStreamer);}}</script><script>(function () {\n",
       "if (!window.YAHOO || !window.YAHOO.i13n || !window.YAHOO.i13n.Rapid) { return; }\n",
       "var rapidConfig = {\"async_all_clicks\":true,\"click_timeout\":300,\"client_only\":1,\"compr_type\":\"deflate\",\"keys\":{\"ver\":\"ydotcom\",\"navtype\":\"server\",\"pt\":\"utility\",\"pct\":\"qsp\",\"pstcat\":\"cryptocurrency\",\"pg_name\":\"history\",\"rvt\":\"BTC-USD\",\"ticker\":\"BTC-USD\",\"mrkt\":\"us\",\"site\":\"finance\",\"lang\":\"en-US\",\"colo\":\"sg3\",\"_yrid\":\"clograpgir7on\",\"_rid\":\"clograpgir7on\",\"abk\":\"\"},\"pageview_on_init\":true,\"query_parameters\":true,\"test_id\":\"fd-stock-recommender-1,fd-esi-disabled,xray-finance-saliencemerge-test-2,fd-linkbroker-upsell-top,fd-a2-upsell-3,JRVCL-finance-plutus,fd-hp-sticky-footer-2\",\"tracked_mods_viewability\":[],\"track_right_click\":true,\"viewability\":true,\"dwell_on\":true,\"perf_navigationtime\":2,\"perf_resourcetime\":1,\"webworker_file\":\"/__rapidworker-1.2.js\",\"spaceid\":1197805203};\n",
       "window.rapidInstance = new window.YAHOO.i13n.Rapid(rapidConfig);\n",
       "})();</script><style>._98801ccc{color:blue}._11248a25{position:relative;z-index:0}._11248a25:before,._5777d23b{content:\"\";display:block;height:100%;left:0;opacity:0;position:absolute;top:0;width:100%;z-index:-1}._11248a25:before{background-color:#00873c44}._11248a25:after{background-color:#eb0f2944;content:\"\";display:block;height:100%;left:0;opacity:0;position:absolute;top:0;width:100%;z-index:-1}._96166592{color:#00873c}.c8de4835{color:#eb0f29}._3dd3226a{background-color:#00873c}._7b3b8cc9,._3dd3226a{border-radius:3px;color:#fff;padding:2px 10px}._7b3b8cc9{background-color:#eb0f29}._54c8e564{font-size:12px}._927bb2fc{font-size:14px;font-weight:700}._1952935a{font-weight:500;margin-left:4px}@-webkit-keyframes d9153903{25%{display:block;opacity:1}75%{opacity:1}to{display:none;opacity:0}}@keyframes d9153903{25%{display:block;opacity:1}75%{opacity:1}to{display:none;opacity:0}}@-webkit-keyframes _2a5decf0{25%{display:block;opacity:1}75%{opacity:1}to{display:none;opacity:0}}@keyframes _2a5decf0{25%{display:block;opacity:1}75%{opacity:1}to{display:none;opacity:0}}@-webkit-keyframes _174e351b{25%{display:block;opacity:1}75%{opacity:1}to{display:none;opacity:0}}@keyframes _174e351b{25%{display:block;opacity:1}75%{opacity:1}to{display:none;opacity:0}}@-webkit-keyframes d4ce4588{25%{display:block;opacity:1}75%{opacity:1}to{display:none;opacity:0}}@keyframes d4ce4588{25%{display:block;opacity:1}75%{opacity:1}to{display:none;opacity:0}}.c45ef5f5{background-color:#00873c44}.de692f94{background-color:#eb0f2944}.b2e85843:before{-webkit-animation:d9153903 .7s;animation:d9153903 .7s}.a13cb817:before{-webkit-animation:_2a5decf0 .7s;animation:_2a5decf0 .7s}.c916dce9:after{-webkit-animation:_174e351b .7s;animation:_174e351b .7s}._8e5a1db9:after{-webkit-animation:d4ce4588 .7s;animation:d4ce4588 .7s}</style></head>"
      ]
     },
     "execution_count": 2,
     "metadata": {},
     "output_type": "execute_result"
    }
   ],
   "source": [
    "#web scraping\n",
    "URL =\"https://finance.yahoo.com/quote/BTC-USD/history?period1=1410912000&period2=1629849600&interval=1mo&filter=history&frequency=1mo&includeAdjustedClose=true\"\n",
    "driver = webdriver.Chrome()\n",
    "driver.get(URL)\n",
    "html = driver.page_source\n",
    "soup = BeautifulSoup(html, \"html.parser\")\n",
    "soup.head"
   ]
  },
  {
   "cell_type": "code",
   "execution_count": 3,
   "id": "a3e51034",
   "metadata": {},
   "outputs": [],
   "source": [
    "#data cleaning\n",
    "len_date=len(soup.find_all(class_=\"Py(10px) Ta(start) Pend(10px)\"))\n",
    "len_num= len(soup.find_all(class_=\"Py(10px) Pstart(10px)\"))"
   ]
  },
  {
   "cell_type": "code",
   "execution_count": 4,
   "id": "5e2ce48a",
   "metadata": {},
   "outputs": [],
   "source": [
    "#data cleaning\n",
    "dictionary = {\"date\":[], \"open\":[], \"high\":[], \"low\":[], \"close\":[], \"adj_close\":[], \"volume\":[]}\n",
    "lst_date = [dictionary[\"date\"].append(soup.find_all(class_=\"Py(10px) Ta(start) Pend(10px)\")[i].text) for i in range(len_date)]\n",
    "lst_open = [dictionary[\"open\"].append(soup.find_all(class_=\"Py(10px) Pstart(10px)\")[i].text) for i in range(0,len_num,6)]\n",
    "lst_high = [dictionary[\"high\"].append(soup.find_all(class_=\"Py(10px) Pstart(10px)\")[i].text) for i in range(1,len_num,6)]\n",
    "lst_low = [dictionary[\"low\"].append(soup.find_all(class_=\"Py(10px) Pstart(10px)\")[i].text) for i in range(2,len_num,6)]\n",
    "lst_close = [dictionary[\"close\"].append(soup.find_all(class_=\"Py(10px) Pstart(10px)\")[i].text) for i in range(3,len_num,6)]\n",
    "lst_adj_close = [dictionary[\"adj_close\"].append(soup.find_all(class_=\"Py(10px) Pstart(10px)\")[i].text) for i in range(4,len_num,6)]\n",
    "lst_volume = [dictionary[\"volume\"].append(soup.find_all(class_=\"Py(10px) Pstart(10px)\")[i].text) for i in range(5,len_num,6)]"
   ]
  },
  {
   "cell_type": "markdown",
   "id": "318bc725",
   "metadata": {},
   "source": [
    "# Data cleaning and preprocessing"
   ]
  },
  {
   "cell_type": "code",
   "execution_count": 5,
   "id": "11ebbef9",
   "metadata": {},
   "outputs": [
    {
     "data": {
      "text/html": [
       "<div>\n",
       "<style scoped>\n",
       "    .dataframe tbody tr th:only-of-type {\n",
       "        vertical-align: middle;\n",
       "    }\n",
       "\n",
       "    .dataframe tbody tr th {\n",
       "        vertical-align: top;\n",
       "    }\n",
       "\n",
       "    .dataframe thead th {\n",
       "        text-align: right;\n",
       "    }\n",
       "</style>\n",
       "<table border=\"1\" class=\"dataframe\">\n",
       "  <thead>\n",
       "    <tr style=\"text-align: right;\">\n",
       "      <th></th>\n",
       "      <th>date</th>\n",
       "      <th>open</th>\n",
       "      <th>high</th>\n",
       "      <th>low</th>\n",
       "      <th>close</th>\n",
       "      <th>adj_close</th>\n",
       "      <th>volume</th>\n",
       "    </tr>\n",
       "  </thead>\n",
       "  <tbody>\n",
       "    <tr>\n",
       "      <th>0</th>\n",
       "      <td>2021-08-01</td>\n",
       "      <td>41460.84</td>\n",
       "      <td>50482.08</td>\n",
       "      <td>37458.00</td>\n",
       "      <td>48829.83</td>\n",
       "      <td>48829.83</td>\n",
       "      <td>948096813985</td>\n",
       "    </tr>\n",
       "    <tr>\n",
       "      <th>1</th>\n",
       "      <td>2021-07-01</td>\n",
       "      <td>35035.98</td>\n",
       "      <td>42235.55</td>\n",
       "      <td>29360.96</td>\n",
       "      <td>41626.20</td>\n",
       "      <td>41626.20</td>\n",
       "      <td>819103381204</td>\n",
       "    </tr>\n",
       "    <tr>\n",
       "      <th>2</th>\n",
       "      <td>2021-06-01</td>\n",
       "      <td>37293.79</td>\n",
       "      <td>41295.27</td>\n",
       "      <td>28893.62</td>\n",
       "      <td>35040.84</td>\n",
       "      <td>35040.84</td>\n",
       "      <td>1189647451707</td>\n",
       "    </tr>\n",
       "    <tr>\n",
       "      <th>3</th>\n",
       "      <td>2021-05-01</td>\n",
       "      <td>57714.66</td>\n",
       "      <td>59519.36</td>\n",
       "      <td>30681.50</td>\n",
       "      <td>37332.86</td>\n",
       "      <td>37332.86</td>\n",
       "      <td>1976593438572</td>\n",
       "    </tr>\n",
       "    <tr>\n",
       "      <th>4</th>\n",
       "      <td>2021-04-01</td>\n",
       "      <td>58926.56</td>\n",
       "      <td>64863.10</td>\n",
       "      <td>47159.48</td>\n",
       "      <td>57750.18</td>\n",
       "      <td>57750.18</td>\n",
       "      <td>1844481772417</td>\n",
       "    </tr>\n",
       "    <tr>\n",
       "      <th>...</th>\n",
       "      <td>...</td>\n",
       "      <td>...</td>\n",
       "      <td>...</td>\n",
       "      <td>...</td>\n",
       "      <td>...</td>\n",
       "      <td>...</td>\n",
       "      <td>...</td>\n",
       "    </tr>\n",
       "    <tr>\n",
       "      <th>78</th>\n",
       "      <td>2015-02-01</td>\n",
       "      <td>216.87</td>\n",
       "      <td>265.61</td>\n",
       "      <td>212.01</td>\n",
       "      <td>254.26</td>\n",
       "      <td>254.26</td>\n",
       "      <td>711518700</td>\n",
       "    </tr>\n",
       "    <tr>\n",
       "      <th>79</th>\n",
       "      <td>2015-01-01</td>\n",
       "      <td>320.43</td>\n",
       "      <td>320.43</td>\n",
       "      <td>171.51</td>\n",
       "      <td>217.46</td>\n",
       "      <td>217.46</td>\n",
       "      <td>1098811912</td>\n",
       "    </tr>\n",
       "    <tr>\n",
       "      <th>80</th>\n",
       "      <td>2014-12-01</td>\n",
       "      <td>378.25</td>\n",
       "      <td>384.04</td>\n",
       "      <td>304.23</td>\n",
       "      <td>320.19</td>\n",
       "      <td>320.19</td>\n",
       "      <td>553102310</td>\n",
       "    </tr>\n",
       "    <tr>\n",
       "      <th>81</th>\n",
       "      <td>2014-11-01</td>\n",
       "      <td>338.65</td>\n",
       "      <td>457.09</td>\n",
       "      <td>320.63</td>\n",
       "      <td>378.05</td>\n",
       "      <td>378.05</td>\n",
       "      <td>659733360</td>\n",
       "    </tr>\n",
       "    <tr>\n",
       "      <th>82</th>\n",
       "      <td>2014-10-01</td>\n",
       "      <td>387.43</td>\n",
       "      <td>411.70</td>\n",
       "      <td>289.30</td>\n",
       "      <td>338.32</td>\n",
       "      <td>338.32</td>\n",
       "      <td>902994450</td>\n",
       "    </tr>\n",
       "  </tbody>\n",
       "</table>\n",
       "<p>83 rows × 7 columns</p>\n",
       "</div>"
      ],
      "text/plain": [
       "         date      open      high       low     close adj_close         volume\n",
       "0  2021-08-01  41460.84  50482.08  37458.00  48829.83  48829.83   948096813985\n",
       "1  2021-07-01  35035.98  42235.55  29360.96  41626.20  41626.20   819103381204\n",
       "2  2021-06-01  37293.79  41295.27  28893.62  35040.84  35040.84  1189647451707\n",
       "3  2021-05-01  57714.66  59519.36  30681.50  37332.86  37332.86  1976593438572\n",
       "4  2021-04-01  58926.56  64863.10  47159.48  57750.18  57750.18  1844481772417\n",
       "..        ...       ...       ...       ...       ...       ...            ...\n",
       "78 2015-02-01    216.87    265.61    212.01    254.26    254.26      711518700\n",
       "79 2015-01-01    320.43    320.43    171.51    217.46    217.46     1098811912\n",
       "80 2014-12-01    378.25    384.04    304.23    320.19    320.19      553102310\n",
       "81 2014-11-01    338.65    457.09    320.63    378.05    378.05      659733360\n",
       "82 2014-10-01    387.43    411.70    289.30    338.32    338.32      902994450\n",
       "\n",
       "[83 rows x 7 columns]"
      ]
     },
     "execution_count": 5,
     "metadata": {},
     "output_type": "execute_result"
    }
   ],
   "source": [
    "df=pd.DataFrame(dictionary)\n",
    "df[\"date\"] = pd.to_datetime(df[\"date\"])\n",
    "df.replace(to_replace=r',', value='', regex=True, inplace=True)\n",
    "df"
   ]
  },
  {
   "cell_type": "code",
   "execution_count": 6,
   "id": "97b237c9",
   "metadata": {},
   "outputs": [],
   "source": [
    "df[\"open\"] = [float(item) for item in df[\"open\"]]\n",
    "df[\"high\"] = [float(item) for item in df[\"high\"]]\n",
    "df[\"low\"] = [float(item) for item in df[\"low\"]]\n",
    "df[\"close\"] = [float(item) for item in df[\"close\"]]\n",
    "df[\"adj_close\"] = [float(item) for item in df[\"adj_close\"]]\n",
    "df[\"volume\"] = [float(item) for item in df[\"volume\"]]"
   ]
  },
  {
   "cell_type": "code",
   "execution_count": 7,
   "id": "dfaadf15",
   "metadata": {},
   "outputs": [],
   "source": [
    "df['amplitude%'] = (df['high'] - df['low'])/df['low']*100\n",
    "#df['volume']= round(df['volume'] / 1000000 , 2)"
   ]
  },
  {
   "cell_type": "markdown",
   "id": "63958a79",
   "metadata": {},
   "source": [
    "# Data analysis"
   ]
  },
  {
   "cell_type": "code",
   "execution_count": 14,
   "id": "146cbeef",
   "metadata": {},
   "outputs": [
    {
     "data": {
      "text/plain": [
       "[<matplotlib.lines.Line2D at 0x1ada2d1c250>]"
      ]
     },
     "execution_count": 14,
     "metadata": {},
     "output_type": "execute_result"
    },
    {
     "data": {
      "image/png": "[encoded data removed]",
      "text/plain": [
       "<Figure size 936x576 with 1 Axes>"
      ]
     },
     "metadata": {
      "needs_background": "light"
     },
     "output_type": "display_data"
    }
   ],
   "source": [
    "#1 Value of bitcoin from 2014-2021\n",
    "import matplotlib.pyplot as plt\n",
    "fig = plt.figure(figsize=(13,8))\n",
    "ax = fig.add_subplot()\n",
    "ax.plot(df[\"date\"], df[\"close\"])\n"
   ]
  },
  {
   "cell_type": "code",
   "execution_count": 15,
   "id": "e61eef46",
   "metadata": {},
   "outputs": [
    {
     "data": {
      "text/plain": [
       "<AxesSubplot:xlabel='date'>"
      ]
     },
     "execution_count": 15,
     "metadata": {},
     "output_type": "execute_result"
    },
    {
     "data": {
      "image/png": "[encoded data removed]",
      "text/plain": [
       "<Figure size 432x288 with 1 Axes>"
      ]
     },
     "metadata": {
      "needs_background": "light"
     },
     "output_type": "display_data"
    }
   ],
   "source": [
    "df.set_index('date')['close'].plot()"
   ]
  },
  {
   "cell_type": "code",
   "execution_count": 16,
   "id": "ccc99e77",
   "metadata": {},
   "outputs": [
    {
     "data": {
      "text/plain": [
       "<AxesSubplot:xlabel='date'>"
      ]
     },
     "execution_count": 16,
     "metadata": {},
     "output_type": "execute_result"
    },
    {
     "data": {
      "image/png": "[encoded data removed]",
      "text/plain": [
       "<Figure size 432x288 with 1 Axes>"
      ]
     },
     "metadata": {
      "needs_background": "light"
     },
     "output_type": "display_data"
    }
   ],
   "source": [
    "df.head(15).set_index('date')[['close']].plot()"
   ]
  },
  {
   "cell_type": "code",
   "execution_count": 17,
   "id": "653bf2ad",
   "metadata": {},
   "outputs": [
    {
     "data": {
      "text/plain": [
       "<AxesSubplot:xlabel='Year', ylabel='Volume'>"
      ]
     },
     "execution_count": 17,
     "metadata": {},
     "output_type": "execute_result"
    },
    {
     "data": {
      "image/png": "[encoded data removed]",
      "text/plain": [
       "<Figure size 432x288 with 1 Axes>"
      ]
     },
     "metadata": {
      "needs_background": "light"
     },
     "output_type": "display_data"
    }
   ],
   "source": [
    "#2 Volume of bitcoin from 2014-2021\n",
    "df[\"Year\"] = df[\"date\"].map(lambda x: x.year)\n",
    "df.groupby(\"Year\")[\"volume\"].sum().plot(ylabel= \"Volume\", kind=\"bar\", logy=True)"
   ]
  },
  {
   "cell_type": "code",
   "execution_count": 18,
   "id": "d4975bea",
   "metadata": {},
   "outputs": [
    {
     "data": {
      "text/plain": [
       "<AxesSubplot:>"
      ]
     },
     "execution_count": 18,
     "metadata": {},
     "output_type": "execute_result"
    },
    {
     "data": {
      "image/png": "[encoded data removed]",
      "text/plain": [
       "<Figure size 432x288 with 2 Axes>"
      ]
     },
     "metadata": {
      "needs_background": "light"
     },
     "output_type": "display_data"
    }
   ],
   "source": [
    "#3 Correlation graph\n",
    "import seaborn as sns\n",
    "correlation_matrix=df.corr(method='pearson')\n",
    "sns.heatmap(correlation_matrix,annot=True)\n",
    "#From the graph, we can see that all numbers are positive.\n",
    "#Compare volume,value; amplitude,volume/value; year,value"
   ]
  },
  {
   "cell_type": "code",
   "execution_count": 19,
   "id": "ee805933",
   "metadata": {},
   "outputs": [
    {
     "data": {
      "text/html": [
       "<div>\n",
       "<style scoped>\n",
       "    .dataframe tbody tr th:only-of-type {\n",
       "        vertical-align: middle;\n",
       "    }\n",
       "\n",
       "    .dataframe tbody tr th {\n",
       "        vertical-align: top;\n",
       "    }\n",
       "\n",
       "    .dataframe thead th {\n",
       "        text-align: right;\n",
       "    }\n",
       "</style>\n",
       "<table border=\"1\" class=\"dataframe\">\n",
       "  <thead>\n",
       "    <tr style=\"text-align: right;\">\n",
       "      <th></th>\n",
       "      <th>date</th>\n",
       "      <th>open</th>\n",
       "      <th>high</th>\n",
       "      <th>low</th>\n",
       "      <th>close</th>\n",
       "      <th>adj_close</th>\n",
       "      <th>volume</th>\n",
       "      <th>amplitude%</th>\n",
       "      <th>Year</th>\n",
       "    </tr>\n",
       "  </thead>\n",
       "  <tbody>\n",
       "    <tr>\n",
       "      <th>0</th>\n",
       "      <td>2021-08-01</td>\n",
       "      <td>41460.84</td>\n",
       "      <td>50482.08</td>\n",
       "      <td>37458.00</td>\n",
       "      <td>48829.83</td>\n",
       "      <td>48829.83</td>\n",
       "      <td>9.480968e+11</td>\n",
       "      <td>34.769822</td>\n",
       "      <td>2021</td>\n",
       "    </tr>\n",
       "    <tr>\n",
       "      <th>1</th>\n",
       "      <td>2021-07-01</td>\n",
       "      <td>35035.98</td>\n",
       "      <td>42235.55</td>\n",
       "      <td>29360.96</td>\n",
       "      <td>41626.20</td>\n",
       "      <td>41626.20</td>\n",
       "      <td>8.191034e+11</td>\n",
       "      <td>43.849350</td>\n",
       "      <td>2021</td>\n",
       "    </tr>\n",
       "    <tr>\n",
       "      <th>2</th>\n",
       "      <td>2021-06-01</td>\n",
       "      <td>37293.79</td>\n",
       "      <td>41295.27</td>\n",
       "      <td>28893.62</td>\n",
       "      <td>35040.84</td>\n",
       "      <td>35040.84</td>\n",
       "      <td>1.189647e+12</td>\n",
       "      <td>42.921759</td>\n",
       "      <td>2021</td>\n",
       "    </tr>\n",
       "    <tr>\n",
       "      <th>3</th>\n",
       "      <td>2021-05-01</td>\n",
       "      <td>57714.66</td>\n",
       "      <td>59519.36</td>\n",
       "      <td>30681.50</td>\n",
       "      <td>37332.86</td>\n",
       "      <td>37332.86</td>\n",
       "      <td>1.976593e+12</td>\n",
       "      <td>93.991037</td>\n",
       "      <td>2021</td>\n",
       "    </tr>\n",
       "    <tr>\n",
       "      <th>4</th>\n",
       "      <td>2021-04-01</td>\n",
       "      <td>58926.56</td>\n",
       "      <td>64863.10</td>\n",
       "      <td>47159.48</td>\n",
       "      <td>57750.18</td>\n",
       "      <td>57750.18</td>\n",
       "      <td>1.844482e+12</td>\n",
       "      <td>37.539897</td>\n",
       "      <td>2021</td>\n",
       "    </tr>\n",
       "    <tr>\n",
       "      <th>...</th>\n",
       "      <td>...</td>\n",
       "      <td>...</td>\n",
       "      <td>...</td>\n",
       "      <td>...</td>\n",
       "      <td>...</td>\n",
       "      <td>...</td>\n",
       "      <td>...</td>\n",
       "      <td>...</td>\n",
       "      <td>...</td>\n",
       "    </tr>\n",
       "    <tr>\n",
       "      <th>78</th>\n",
       "      <td>2015-02-01</td>\n",
       "      <td>216.87</td>\n",
       "      <td>265.61</td>\n",
       "      <td>212.01</td>\n",
       "      <td>254.26</td>\n",
       "      <td>254.26</td>\n",
       "      <td>7.115187e+08</td>\n",
       "      <td>25.281826</td>\n",
       "      <td>2015</td>\n",
       "    </tr>\n",
       "    <tr>\n",
       "      <th>79</th>\n",
       "      <td>2015-01-01</td>\n",
       "      <td>320.43</td>\n",
       "      <td>320.43</td>\n",
       "      <td>171.51</td>\n",
       "      <td>217.46</td>\n",
       "      <td>217.46</td>\n",
       "      <td>1.098812e+09</td>\n",
       "      <td>86.828756</td>\n",
       "      <td>2015</td>\n",
       "    </tr>\n",
       "    <tr>\n",
       "      <th>80</th>\n",
       "      <td>2014-12-01</td>\n",
       "      <td>378.25</td>\n",
       "      <td>384.04</td>\n",
       "      <td>304.23</td>\n",
       "      <td>320.19</td>\n",
       "      <td>320.19</td>\n",
       "      <td>5.531023e+08</td>\n",
       "      <td>26.233442</td>\n",
       "      <td>2014</td>\n",
       "    </tr>\n",
       "    <tr>\n",
       "      <th>81</th>\n",
       "      <td>2014-11-01</td>\n",
       "      <td>338.65</td>\n",
       "      <td>457.09</td>\n",
       "      <td>320.63</td>\n",
       "      <td>378.05</td>\n",
       "      <td>378.05</td>\n",
       "      <td>6.597334e+08</td>\n",
       "      <td>42.559960</td>\n",
       "      <td>2014</td>\n",
       "    </tr>\n",
       "    <tr>\n",
       "      <th>82</th>\n",
       "      <td>2014-10-01</td>\n",
       "      <td>387.43</td>\n",
       "      <td>411.70</td>\n",
       "      <td>289.30</td>\n",
       "      <td>338.32</td>\n",
       "      <td>338.32</td>\n",
       "      <td>9.029944e+08</td>\n",
       "      <td>42.309022</td>\n",
       "      <td>2014</td>\n",
       "    </tr>\n",
       "  </tbody>\n",
       "</table>\n",
       "<p>83 rows × 9 columns</p>\n",
       "</div>"
      ],
      "text/plain": [
       "         date      open      high       low     close  adj_close  \\\n",
       "0  2021-08-01  41460.84  50482.08  37458.00  48829.83   48829.83   \n",
       "1  2021-07-01  35035.98  42235.55  29360.96  41626.20   41626.20   \n",
       "2  2021-06-01  37293.79  41295.27  28893.62  35040.84   35040.84   \n",
       "3  2021-05-01  57714.66  59519.36  30681.50  37332.86   37332.86   \n",
       "4  2021-04-01  58926.56  64863.10  47159.48  57750.18   57750.18   \n",
       "..        ...       ...       ...       ...       ...        ...   \n",
       "78 2015-02-01    216.87    265.61    212.01    254.26     254.26   \n",
       "79 2015-01-01    320.43    320.43    171.51    217.46     217.46   \n",
       "80 2014-12-01    378.25    384.04    304.23    320.19     320.19   \n",
       "81 2014-11-01    338.65    457.09    320.63    378.05     378.05   \n",
       "82 2014-10-01    387.43    411.70    289.30    338.32     338.32   \n",
       "\n",
       "          volume  amplitude%  Year  \n",
       "0   9.480968e+11   34.769822  2021  \n",
       "1   8.191034e+11   43.849350  2021  \n",
       "2   1.189647e+12   42.921759  2021  \n",
       "3   1.976593e+12   93.991037  2021  \n",
       "4   1.844482e+12   37.539897  2021  \n",
       "..           ...         ...   ...  \n",
       "78  7.115187e+08   25.281826  2015  \n",
       "79  1.098812e+09   86.828756  2015  \n",
       "80  5.531023e+08   26.233442  2014  \n",
       "81  6.597334e+08   42.559960  2014  \n",
       "82  9.029944e+08   42.309022  2014  \n",
       "\n",
       "[83 rows x 9 columns]"
      ]
     },
     "execution_count": 19,
     "metadata": {},
     "output_type": "execute_result"
    }
   ],
   "source": [
    "df[\"Year\"] = df[\"date\"].apply(lambda x: x.year)\n",
    "df"
   ]
  },
  {
   "cell_type": "code",
   "execution_count": 20,
   "id": "17532ac6",
   "metadata": {},
   "outputs": [
    {
     "data": {
      "text/plain": [
       "Text(0.5, 1.0, '')"
      ]
     },
     "execution_count": 20,
     "metadata": {},
     "output_type": "execute_result"
    },
    {
     "data": {
      "image/png": "[encoded data removed]",
      "text/plain": [
       "<Figure size 432x288 with 1 Axes>"
      ]
     },
     "metadata": {
      "needs_background": "light"
     },
     "output_type": "display_data"
    }
   ],
   "source": [
    "boxplot = df.boxplot(by=\"Year\", column=[\"close\"], grid=False)\n",
    "boxplot.set_ylabel(\"close\")\n",
    "boxplot.set_title(\"\")"
   ]
  },
  {
   "cell_type": "code",
   "execution_count": 21,
   "id": "499a31cf",
   "metadata": {},
   "outputs": [
    {
     "data": {
      "text/plain": [
       "array([3.60059384e+12, 3.86621840e+12, 3.47749523e+12, 3.62225134e+12,\n",
       "       4.22179557e+12, 2.69648796e+12, 2.21984902e+12, 2.38989108e+12,\n",
       "       1.56245132e+12, 1.52361449e+12, 2.07463210e+12, 2.43141950e+12])"
      ]
     },
     "execution_count": 21,
     "metadata": {},
     "output_type": "execute_result"
    }
   ],
   "source": [
    "# Volume summary against Month\n",
    "volume = df.groupby(df['date'].dt.month).volume.sum()\n",
    "volume.values"
   ]
  },
  {
   "cell_type": "code",
   "execution_count": 23,
   "id": "6f8d72e9",
   "metadata": {},
   "outputs": [
    {
     "data": {
      "text/plain": [
       "Text(0.5, 1.0, 'data range 2014.10.01-2021.8.25')"
      ]
     },
     "execution_count": 23,
     "metadata": {},
     "output_type": "execute_result"
    },
    {
     "data": {
      "image/png": "[encoded data removed]",
      "text/plain": [
       "<Figure size 936x576 with 1 Axes>"
      ]
     },
     "metadata": {
      "needs_background": "light"
     },
     "output_type": "display_data"
    }
   ],
   "source": [
    "fig = plt.figure(figsize=(13,8)) \n",
    "plt.bar(x = volume.index, height = volume.values, color = 'c')\n",
    "plt.xlabel('Month')\n",
    "plt.ylabel('Volume_Sum: Trillion USD')\n",
    "plt.suptitle(\"Volume Summary against Month\",size = 'x-large')\n",
    "plt.title('data range 2014.10.01-2021.8.25')"
   ]
  },
  {
   "cell_type": "code",
   "execution_count": 24,
   "id": "7f581635",
   "metadata": {},
   "outputs": [],
   "source": [
    "#Month Volume distribution: find calm and crazy months\n",
    "df1= df\n",
    "df1['year'] = df['date'].dt.year\n",
    "df1['month'] = df['date'].dt.month\n",
    "df1 = pd.pivot_table(df1,values='volume', index='year',columns='month')\n",
    "df2 = df1"
   ]
  },
  {
   "cell_type": "code",
   "execution_count": 25,
   "id": "c40b24bd",
   "metadata": {
    "scrolled": false
   },
   "outputs": [
    {
     "data": {
      "text/html": [
       "<div>\n",
       "<style scoped>\n",
       "    .dataframe tbody tr th:only-of-type {\n",
       "        vertical-align: middle;\n",
       "    }\n",
       "\n",
       "    .dataframe tbody tr th {\n",
       "        vertical-align: top;\n",
       "    }\n",
       "\n",
       "    .dataframe thead th {\n",
       "        text-align: right;\n",
       "    }\n",
       "</style>\n",
       "<table border=\"1\" class=\"dataframe\">\n",
       "  <thead>\n",
       "    <tr style=\"text-align: right;\">\n",
       "      <th>month</th>\n",
       "      <th>1</th>\n",
       "      <th>2</th>\n",
       "      <th>3</th>\n",
       "      <th>4</th>\n",
       "      <th>5</th>\n",
       "      <th>6</th>\n",
       "      <th>7</th>\n",
       "      <th>8</th>\n",
       "      <th>9</th>\n",
       "      <th>10</th>\n",
       "      <th>11</th>\n",
       "      <th>12</th>\n",
       "      <th>mean</th>\n",
       "    </tr>\n",
       "    <tr>\n",
       "      <th>year</th>\n",
       "      <th></th>\n",
       "      <th></th>\n",
       "      <th></th>\n",
       "      <th></th>\n",
       "      <th></th>\n",
       "      <th></th>\n",
       "      <th></th>\n",
       "      <th></th>\n",
       "      <th></th>\n",
       "      <th></th>\n",
       "      <th></th>\n",
       "      <th></th>\n",
       "      <th></th>\n",
       "    </tr>\n",
       "  </thead>\n",
       "  <tbody>\n",
       "    <tr>\n",
       "      <th>2014</th>\n",
       "      <td>NaN</td>\n",
       "      <td>NaN</td>\n",
       "      <td>NaN</td>\n",
       "      <td>NaN</td>\n",
       "      <td>NaN</td>\n",
       "      <td>NaN</td>\n",
       "      <td>NaN</td>\n",
       "      <td>NaN</td>\n",
       "      <td>NaN</td>\n",
       "      <td>9.029944e+08</td>\n",
       "      <td>6.597334e+08</td>\n",
       "      <td>5.531023e+08</td>\n",
       "      <td>7.052767e+08</td>\n",
       "    </tr>\n",
       "    <tr>\n",
       "      <th>2015</th>\n",
       "      <td>1.098812e+09</td>\n",
       "      <td>7.115187e+08</td>\n",
       "      <td>9.590983e+08</td>\n",
       "      <td>6.723387e+08</td>\n",
       "      <td>5.681226e+08</td>\n",
       "      <td>6.297802e+08</td>\n",
       "      <td>9.998922e+08</td>\n",
       "      <td>9.051923e+08</td>\n",
       "      <td>6.036239e+08</td>\n",
       "      <td>9.532795e+08</td>\n",
       "      <td>2.177623e+09</td>\n",
       "      <td>2.096250e+09</td>\n",
       "      <td>1.031294e+09</td>\n",
       "    </tr>\n",
       "    <tr>\n",
       "      <th>2016</th>\n",
       "      <td>1.990880e+09</td>\n",
       "      <td>1.876239e+09</td>\n",
       "      <td>2.332853e+09</td>\n",
       "      <td>1.811475e+09</td>\n",
       "      <td>2.234433e+09</td>\n",
       "      <td>4.749703e+09</td>\n",
       "      <td>3.454186e+09</td>\n",
       "      <td>2.686220e+09</td>\n",
       "      <td>2.004401e+09</td>\n",
       "      <td>2.115444e+09</td>\n",
       "      <td>2.635773e+09</td>\n",
       "      <td>3.556764e+09</td>\n",
       "      <td>2.620698e+09</td>\n",
       "    </tr>\n",
       "    <tr>\n",
       "      <th>2017</th>\n",
       "      <td>5.143972e+09</td>\n",
       "      <td>4.282761e+09</td>\n",
       "      <td>1.087246e+10</td>\n",
       "      <td>9.757448e+09</td>\n",
       "      <td>3.426186e+10</td>\n",
       "      <td>4.447814e+10</td>\n",
       "      <td>3.261996e+10</td>\n",
       "      <td>6.354802e+10</td>\n",
       "      <td>5.570095e+10</td>\n",
       "      <td>5.800936e+10</td>\n",
       "      <td>1.407350e+11</td>\n",
       "      <td>4.103365e+11</td>\n",
       "      <td>7.247887e+10</td>\n",
       "    </tr>\n",
       "    <tr>\n",
       "      <th>2018</th>\n",
       "      <td>4.162479e+11</td>\n",
       "      <td>2.297178e+11</td>\n",
       "      <td>1.937517e+11</td>\n",
       "      <td>1.965500e+11</td>\n",
       "      <td>1.976117e+11</td>\n",
       "      <td>1.302142e+11</td>\n",
       "      <td>1.414419e+11</td>\n",
       "      <td>1.322928e+11</td>\n",
       "      <td>1.297454e+11</td>\n",
       "      <td>1.184369e+11</td>\n",
       "      <td>1.583595e+11</td>\n",
       "      <td>1.688268e+11</td>\n",
       "      <td>1.844330e+11</td>\n",
       "    </tr>\n",
       "    <tr>\n",
       "      <th>2019</th>\n",
       "      <td>1.673357e+11</td>\n",
       "      <td>1.991007e+11</td>\n",
       "      <td>2.979528e+11</td>\n",
       "      <td>4.453646e+11</td>\n",
       "      <td>7.241579e+11</td>\n",
       "      <td>6.758554e+11</td>\n",
       "      <td>6.764163e+11</td>\n",
       "      <td>5.339850e+11</td>\n",
       "      <td>4.805450e+11</td>\n",
       "      <td>5.952051e+11</td>\n",
       "      <td>6.769195e+11</td>\n",
       "      <td>6.337904e+11</td>\n",
       "      <td>5.088857e+11</td>\n",
       "    </tr>\n",
       "    <tr>\n",
       "      <th>2020</th>\n",
       "      <td>8.528722e+11</td>\n",
       "      <td>1.163376e+12</td>\n",
       "      <td>1.290442e+12</td>\n",
       "      <td>1.123614e+12</td>\n",
       "      <td>1.286368e+12</td>\n",
       "      <td>6.509133e+11</td>\n",
       "      <td>5.458133e+11</td>\n",
       "      <td>7.083771e+11</td>\n",
       "      <td>8.938520e+11</td>\n",
       "      <td>7.479914e+11</td>\n",
       "      <td>1.093145e+12</td>\n",
       "      <td>1.212260e+12</td>\n",
       "      <td>9.640854e+11</td>\n",
       "    </tr>\n",
       "    <tr>\n",
       "      <th>2021</th>\n",
       "      <td>2.155904e+12</td>\n",
       "      <td>2.267153e+12</td>\n",
       "      <td>1.681184e+12</td>\n",
       "      <td>1.844482e+12</td>\n",
       "      <td>1.976593e+12</td>\n",
       "      <td>1.189647e+12</td>\n",
       "      <td>8.191034e+11</td>\n",
       "      <td>9.480968e+11</td>\n",
       "      <td>NaN</td>\n",
       "      <td>NaN</td>\n",
       "      <td>NaN</td>\n",
       "      <td>NaN</td>\n",
       "      <td>1.610271e+12</td>\n",
       "    </tr>\n",
       "  </tbody>\n",
       "</table>\n",
       "</div>"
      ],
      "text/plain": [
       "month             1             2             3             4             5  \\\n",
       "year                                                                          \n",
       "2014            NaN           NaN           NaN           NaN           NaN   \n",
       "2015   1.098812e+09  7.115187e+08  9.590983e+08  6.723387e+08  5.681226e+08   \n",
       "2016   1.990880e+09  1.876239e+09  2.332853e+09  1.811475e+09  2.234433e+09   \n",
       "2017   5.143972e+09  4.282761e+09  1.087246e+10  9.757448e+09  3.426186e+10   \n",
       "2018   4.162479e+11  2.297178e+11  1.937517e+11  1.965500e+11  1.976117e+11   \n",
       "2019   1.673357e+11  1.991007e+11  2.979528e+11  4.453646e+11  7.241579e+11   \n",
       "2020   8.528722e+11  1.163376e+12  1.290442e+12  1.123614e+12  1.286368e+12   \n",
       "2021   2.155904e+12  2.267153e+12  1.681184e+12  1.844482e+12  1.976593e+12   \n",
       "\n",
       "month             6             7             8             9            10  \\\n",
       "year                                                                          \n",
       "2014            NaN           NaN           NaN           NaN  9.029944e+08   \n",
       "2015   6.297802e+08  9.998922e+08  9.051923e+08  6.036239e+08  9.532795e+08   \n",
       "2016   4.749703e+09  3.454186e+09  2.686220e+09  2.004401e+09  2.115444e+09   \n",
       "2017   4.447814e+10  3.261996e+10  6.354802e+10  5.570095e+10  5.800936e+10   \n",
       "2018   1.302142e+11  1.414419e+11  1.322928e+11  1.297454e+11  1.184369e+11   \n",
       "2019   6.758554e+11  6.764163e+11  5.339850e+11  4.805450e+11  5.952051e+11   \n",
       "2020   6.509133e+11  5.458133e+11  7.083771e+11  8.938520e+11  7.479914e+11   \n",
       "2021   1.189647e+12  8.191034e+11  9.480968e+11           NaN           NaN   \n",
       "\n",
       "month            11            12          mean  \n",
       "year                                             \n",
       "2014   6.597334e+08  5.531023e+08  7.052767e+08  \n",
       "2015   2.177623e+09  2.096250e+09  1.031294e+09  \n",
       "2016   2.635773e+09  3.556764e+09  2.620698e+09  \n",
       "2017   1.407350e+11  4.103365e+11  7.247887e+10  \n",
       "2018   1.583595e+11  1.688268e+11  1.844330e+11  \n",
       "2019   6.769195e+11  6.337904e+11  5.088857e+11  \n",
       "2020   1.093145e+12  1.212260e+12  9.640854e+11  \n",
       "2021            NaN           NaN  1.610271e+12  "
      ]
     },
     "execution_count": 25,
     "metadata": {},
     "output_type": "execute_result"
    }
   ],
   "source": [
    "df2['mean'] = df1.mean(axis=1,skipna = True)\n",
    "df2"
   ]
  },
  {
   "cell_type": "code",
   "execution_count": 26,
   "id": "12b3243e",
   "metadata": {},
   "outputs": [
    {
     "data": {
      "text/html": [
       "<div>\n",
       "<style scoped>\n",
       "    .dataframe tbody tr th:only-of-type {\n",
       "        vertical-align: middle;\n",
       "    }\n",
       "\n",
       "    .dataframe tbody tr th {\n",
       "        vertical-align: top;\n",
       "    }\n",
       "\n",
       "    .dataframe thead th {\n",
       "        text-align: right;\n",
       "    }\n",
       "</style>\n",
       "<table border=\"1\" class=\"dataframe\">\n",
       "  <thead>\n",
       "    <tr style=\"text-align: right;\">\n",
       "      <th>month</th>\n",
       "      <th>1</th>\n",
       "      <th>2</th>\n",
       "      <th>3</th>\n",
       "      <th>4</th>\n",
       "      <th>5</th>\n",
       "      <th>6</th>\n",
       "      <th>7</th>\n",
       "      <th>8</th>\n",
       "      <th>9</th>\n",
       "      <th>10</th>\n",
       "      <th>11</th>\n",
       "      <th>12</th>\n",
       "    </tr>\n",
       "    <tr>\n",
       "      <th>year</th>\n",
       "      <th></th>\n",
       "      <th></th>\n",
       "      <th></th>\n",
       "      <th></th>\n",
       "      <th></th>\n",
       "      <th></th>\n",
       "      <th></th>\n",
       "      <th></th>\n",
       "      <th></th>\n",
       "      <th></th>\n",
       "      <th></th>\n",
       "      <th></th>\n",
       "    </tr>\n",
       "  </thead>\n",
       "  <tbody>\n",
       "    <tr>\n",
       "      <th>2014</th>\n",
       "      <td>NaN</td>\n",
       "      <td>NaN</td>\n",
       "      <td>NaN</td>\n",
       "      <td>NaN</td>\n",
       "      <td>NaN</td>\n",
       "      <td>NaN</td>\n",
       "      <td>NaN</td>\n",
       "      <td>NaN</td>\n",
       "      <td>NaN</td>\n",
       "      <td>1.280341</td>\n",
       "      <td>0.935425</td>\n",
       "      <td>0.784234</td>\n",
       "    </tr>\n",
       "    <tr>\n",
       "      <th>2015</th>\n",
       "      <td>1.065469</td>\n",
       "      <td>0.689928</td>\n",
       "      <td>0.929995</td>\n",
       "      <td>0.651937</td>\n",
       "      <td>0.550883</td>\n",
       "      <td>0.610670</td>\n",
       "      <td>0.969551</td>\n",
       "      <td>0.877725</td>\n",
       "      <td>0.585307</td>\n",
       "      <td>0.924353</td>\n",
       "      <td>2.111544</td>\n",
       "      <td>2.032640</td>\n",
       "    </tr>\n",
       "    <tr>\n",
       "      <th>2016</th>\n",
       "      <td>0.759676</td>\n",
       "      <td>0.715931</td>\n",
       "      <td>0.890165</td>\n",
       "      <td>0.691219</td>\n",
       "      <td>0.852610</td>\n",
       "      <td>1.812381</td>\n",
       "      <td>1.318041</td>\n",
       "      <td>1.025002</td>\n",
       "      <td>0.764835</td>\n",
       "      <td>0.807206</td>\n",
       "      <td>1.005752</td>\n",
       "      <td>1.357182</td>\n",
       "    </tr>\n",
       "    <tr>\n",
       "      <th>2017</th>\n",
       "      <td>0.070972</td>\n",
       "      <td>0.059090</td>\n",
       "      <td>0.150009</td>\n",
       "      <td>0.134625</td>\n",
       "      <td>0.472715</td>\n",
       "      <td>0.613670</td>\n",
       "      <td>0.450062</td>\n",
       "      <td>0.876780</td>\n",
       "      <td>0.768513</td>\n",
       "      <td>0.800362</td>\n",
       "      <td>1.941739</td>\n",
       "      <td>5.661464</td>\n",
       "    </tr>\n",
       "    <tr>\n",
       "      <th>2018</th>\n",
       "      <td>2.256905</td>\n",
       "      <td>1.245535</td>\n",
       "      <td>1.050526</td>\n",
       "      <td>1.065698</td>\n",
       "      <td>1.071455</td>\n",
       "      <td>0.706024</td>\n",
       "      <td>0.766901</td>\n",
       "      <td>0.717294</td>\n",
       "      <td>0.703482</td>\n",
       "      <td>0.642167</td>\n",
       "      <td>0.858629</td>\n",
       "      <td>0.915383</td>\n",
       "    </tr>\n",
       "    <tr>\n",
       "      <th>2019</th>\n",
       "      <td>0.328828</td>\n",
       "      <td>0.391248</td>\n",
       "      <td>0.585500</td>\n",
       "      <td>0.875176</td>\n",
       "      <td>1.423027</td>\n",
       "      <td>1.328108</td>\n",
       "      <td>1.329211</td>\n",
       "      <td>1.049322</td>\n",
       "      <td>0.944308</td>\n",
       "      <td>1.169624</td>\n",
       "      <td>1.330200</td>\n",
       "      <td>1.245447</td>\n",
       "    </tr>\n",
       "    <tr>\n",
       "      <th>2020</th>\n",
       "      <td>0.884644</td>\n",
       "      <td>1.206715</td>\n",
       "      <td>1.338514</td>\n",
       "      <td>1.165471</td>\n",
       "      <td>1.334289</td>\n",
       "      <td>0.675161</td>\n",
       "      <td>0.566146</td>\n",
       "      <td>0.734766</td>\n",
       "      <td>0.927150</td>\n",
       "      <td>0.775856</td>\n",
       "      <td>1.133867</td>\n",
       "      <td>1.257419</td>\n",
       "    </tr>\n",
       "    <tr>\n",
       "      <th>2021</th>\n",
       "      <td>1.338846</td>\n",
       "      <td>1.407933</td>\n",
       "      <td>1.044038</td>\n",
       "      <td>1.145448</td>\n",
       "      <td>1.227492</td>\n",
       "      <td>0.738787</td>\n",
       "      <td>0.508674</td>\n",
       "      <td>0.588781</td>\n",
       "      <td>NaN</td>\n",
       "      <td>NaN</td>\n",
       "      <td>NaN</td>\n",
       "      <td>NaN</td>\n",
       "    </tr>\n",
       "  </tbody>\n",
       "</table>\n",
       "</div>"
      ],
      "text/plain": [
       "month        1         2         3         4         5         6         7   \\\n",
       "year                                                                          \n",
       "2014        NaN       NaN       NaN       NaN       NaN       NaN       NaN   \n",
       "2015   1.065469  0.689928  0.929995  0.651937  0.550883  0.610670  0.969551   \n",
       "2016   0.759676  0.715931  0.890165  0.691219  0.852610  1.812381  1.318041   \n",
       "2017   0.070972  0.059090  0.150009  0.134625  0.472715  0.613670  0.450062   \n",
       "2018   2.256905  1.245535  1.050526  1.065698  1.071455  0.706024  0.766901   \n",
       "2019   0.328828  0.391248  0.585500  0.875176  1.423027  1.328108  1.329211   \n",
       "2020   0.884644  1.206715  1.338514  1.165471  1.334289  0.675161  0.566146   \n",
       "2021   1.338846  1.407933  1.044038  1.145448  1.227492  0.738787  0.508674   \n",
       "\n",
       "month        8         9         10        11        12  \n",
       "year                                                     \n",
       "2014        NaN       NaN  1.280341  0.935425  0.784234  \n",
       "2015   0.877725  0.585307  0.924353  2.111544  2.032640  \n",
       "2016   1.025002  0.764835  0.807206  1.005752  1.357182  \n",
       "2017   0.876780  0.768513  0.800362  1.941739  5.661464  \n",
       "2018   0.717294  0.703482  0.642167  0.858629  0.915383  \n",
       "2019   1.049322  0.944308  1.169624  1.330200  1.245447  \n",
       "2020   0.734766  0.927150  0.775856  1.133867  1.257419  \n",
       "2021   0.588781       NaN       NaN       NaN       NaN  "
      ]
     },
     "execution_count": 26,
     "metadata": {},
     "output_type": "execute_result"
    }
   ],
   "source": [
    "df3 = df2.iloc[:,:12].copy()\n",
    "for i in range(len(df3)):\n",
    "    for j in df3:\n",
    "        df3.iloc[i,j-1] = (df2.iloc[i,j-1]/df2.iloc[i,12])\n",
    "df3"
   ]
  },
  {
   "cell_type": "code",
   "execution_count": 29,
   "id": "d0c20cf2",
   "metadata": {},
   "outputs": [
    {
     "data": {
      "text/plain": [
       "Text(0.5, 1.0, 'data range 2014.10.01-2021.8.25')"
      ]
     },
     "execution_count": 29,
     "metadata": {},
     "output_type": "execute_result"
    },
    {
     "data": {
      "image/png": "[encoded data removed]",
      "text/plain": [
       "<Figure size 936x576 with 1 Axes>"
      ]
     },
     "metadata": {
      "needs_background": "light"
     },
     "output_type": "display_data"
    }
   ],
   "source": [
    "import seaborn as sns\n",
    "fig = plt.figure(figsize=(13,8)) \n",
    "sns.boxplot(data = df3)\n",
    "plt.xlabel('Month')\n",
    "plt.ylabel('Month Pencentage: Volume/Average(this year)')\n",
    "plt.suptitle(\"Month Volume distribution: find calm and crazy months\",size = 'x-large')\n",
    "plt.title('data range 2014.10.01-2021.8.25')"
   ]
  },
  {
   "cell_type": "code",
   "execution_count": null,
   "id": "fa718661",
   "metadata": {},
   "outputs": [],
   "source": []
  }
 ],
 "metadata": {
  "kernelspec": {
   "display_name": "Python 3",
   "language": "python",
   "name": "python3"
  },
  "language_info": {
   "codemirror_mode": {
    "name": "ipython",
    "version": 3
   },
   "file_extension": ".py",
   "mimetype": "text/x-python",
   "name": "python",
   "nbconvert_exporter": "python",
   "pygments_lexer": "ipython3",
   "version": "3.8.8"
  }
 },
 "nbformat": 4,
 "nbformat_minor": 5
}
